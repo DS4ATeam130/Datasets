{
 "cells": [
  {
   "cell_type": "code",
   "execution_count": 1,
   "id": "105ae9d8",
   "metadata": {},
   "outputs": [],
   "source": [
    "%matplotlib inline\n",
    "\n",
    "import pandas as pd\n",
    "from matplotlib import pyplot as plt\n",
    "\n",
    "# increase the size and quality of any plots we produce\n",
    "import matplotlib as mpl\n"
   ]
  },
  {
   "cell_type": "code",
   "execution_count": 2,
   "id": "66d687be",
   "metadata": {},
   "outputs": [
    {
     "data": {
      "text/html": [
       "<div>\n",
       "<style scoped>\n",
       "    .dataframe tbody tr th:only-of-type {\n",
       "        vertical-align: middle;\n",
       "    }\n",
       "\n",
       "    .dataframe tbody tr th {\n",
       "        vertical-align: top;\n",
       "    }\n",
       "\n",
       "    .dataframe thead th {\n",
       "        text-align: right;\n",
       "    }\n",
       "</style>\n",
       "<table border=\"1\" class=\"dataframe\">\n",
       "  <thead>\n",
       "    <tr style=\"text-align: right;\">\n",
       "      <th></th>\n",
       "      <th>2       1 1 2 3 3 2 1 4 9 9 1 2 1 4</th>\n",
       "    </tr>\n",
       "  </thead>\n",
       "  <tbody>\n",
       "    <tr>\n",
       "      <th>0</th>\n",
       "      <td>2       2 0 2 2 3 2 8 4 5 9 1 5 1 4</td>\n",
       "    </tr>\n",
       "    <tr>\n",
       "      <th>1</th>\n",
       "      <td>2       3 1 1 2 3 2 1 4 5 9 1 5 1 4</td>\n",
       "    </tr>\n",
       "    <tr>\n",
       "      <th>2</th>\n",
       "      <td>2       4 1 1 3 3 2 8 4 5 9 1 5 1 4</td>\n",
       "    </tr>\n",
       "    <tr>\n",
       "      <th>3</th>\n",
       "      <td>2       5 1 2 2 3 2 8 4 5 5 1 2 1 4</td>\n",
       "    </tr>\n",
       "    <tr>\n",
       "      <th>4</th>\n",
       "      <td>2       6 1 1 3 3 2 1 4 5 5 1 2 1 4</td>\n",
       "    </tr>\n",
       "  </tbody>\n",
       "</table>\n",
       "</div>"
      ],
      "text/plain": [
       "   2       1 1 2 3 3 2 1 4 9 9 1 2 1 4\n",
       "0  2       2 0 2 2 3 2 8 4 5 9 1 5 1 4\n",
       "1  2       3 1 1 2 3 2 1 4 5 9 1 5 1 4\n",
       "2  2       4 1 1 3 3 2 8 4 5 9 1 5 1 4\n",
       "3  2       5 1 2 2 3 2 8 4 5 5 1 2 1 4\n",
       "4  2       6 1 1 3 3 2 1 4 5 5 1 2 1 4"
      ]
     },
     "execution_count": 2,
     "metadata": {},
     "output_type": "execute_result"
    }
   ],
   "source": [
    "#read text file through same directory with pandas\n",
    "\n",
    "df = pd.read_table(\"fhlmc_sf2019a_loans.txt\")\n",
    "df.head()"
   ]
  },
  {
   "cell_type": "code",
   "execution_count": 3,
   "id": "10e31b61",
   "metadata": {},
   "outputs": [
    {
     "name": "stdout",
     "output_type": "stream",
     "text": [
      "<class 'pandas.core.frame.DataFrame'>\n",
      "RangeIndex: 1628964 entries, 0 to 1628963\n",
      "Data columns (total 1 columns):\n",
      " #   Column                               Non-Null Count    Dtype \n",
      "---  ------                               --------------    ----- \n",
      " 0   2       1 1 2 3 3 2 1 4 9 9 1 2 1 4  1628964 non-null  object\n",
      "dtypes: object(1)\n",
      "memory usage: 12.4+ MB\n"
     ]
    }
   ],
   "source": [
    "#reading what the dataframe looks like... looks like a whole lot of nothing right now\n",
    "df.info()"
   ]
  },
  {
   "cell_type": "code",
   "execution_count": 4,
   "id": "bdbf0f37",
   "metadata": {},
   "outputs": [
    {
     "data": {
      "text/html": [
       "<div>\n",
       "<style scoped>\n",
       "    .dataframe tbody tr th:only-of-type {\n",
       "        vertical-align: middle;\n",
       "    }\n",
       "\n",
       "    .dataframe tbody tr th {\n",
       "        vertical-align: top;\n",
       "    }\n",
       "\n",
       "    .dataframe thead th {\n",
       "        text-align: right;\n",
       "    }\n",
       "</style>\n",
       "<table border=\"1\" class=\"dataframe\">\n",
       "  <thead>\n",
       "    <tr style=\"text-align: right;\">\n",
       "      <th></th>\n",
       "      <th>First Column</th>\n",
       "    </tr>\n",
       "  </thead>\n",
       "  <tbody>\n",
       "    <tr>\n",
       "      <th>0</th>\n",
       "      <td>2       2 0 2 2 3 2 8 4 5 9 1 5 1 4</td>\n",
       "    </tr>\n",
       "    <tr>\n",
       "      <th>1</th>\n",
       "      <td>2       3 1 1 2 3 2 1 4 5 9 1 5 1 4</td>\n",
       "    </tr>\n",
       "    <tr>\n",
       "      <th>2</th>\n",
       "      <td>2       4 1 1 3 3 2 8 4 5 9 1 5 1 4</td>\n",
       "    </tr>\n",
       "    <tr>\n",
       "      <th>3</th>\n",
       "      <td>2       5 1 2 2 3 2 8 4 5 5 1 2 1 4</td>\n",
       "    </tr>\n",
       "    <tr>\n",
       "      <th>4</th>\n",
       "      <td>2       6 1 1 3 3 2 1 4 5 5 1 2 1 4</td>\n",
       "    </tr>\n",
       "  </tbody>\n",
       "</table>\n",
       "</div>"
      ],
      "text/plain": [
       "                          First Column\n",
       "0  2       2 0 2 2 3 2 8 4 5 9 1 5 1 4\n",
       "1  2       3 1 1 2 3 2 1 4 5 9 1 5 1 4\n",
       "2  2       4 1 1 3 3 2 8 4 5 9 1 5 1 4\n",
       "3  2       5 1 2 2 3 2 8 4 5 5 1 2 1 4\n",
       "4  2       6 1 1 3 3 2 1 4 5 5 1 2 1 4"
      ]
     },
     "execution_count": 4,
     "metadata": {},
     "output_type": "execute_result"
    }
   ],
   "source": [
    "#adding a column name to only available column in dataset\n",
    "df.columns = [\"First Column\"]\n",
    "df.head()"
   ]
  },
  {
   "cell_type": "code",
   "execution_count": 5,
   "id": "a4976d42",
   "metadata": {
    "scrolled": true
   },
   "outputs": [
    {
     "data": {
      "text/html": [
       "<div>\n",
       "<style scoped>\n",
       "    .dataframe tbody tr th:only-of-type {\n",
       "        vertical-align: middle;\n",
       "    }\n",
       "\n",
       "    .dataframe tbody tr th {\n",
       "        vertical-align: top;\n",
       "    }\n",
       "\n",
       "    .dataframe thead th {\n",
       "        text-align: right;\n",
       "    }\n",
       "</style>\n",
       "<table border=\"1\" class=\"dataframe\">\n",
       "  <thead>\n",
       "    <tr style=\"text-align: right;\">\n",
       "      <th></th>\n",
       "      <th>0</th>\n",
       "      <th>1</th>\n",
       "      <th>2</th>\n",
       "      <th>3</th>\n",
       "      <th>4</th>\n",
       "      <th>5</th>\n",
       "      <th>6</th>\n",
       "      <th>7</th>\n",
       "      <th>8</th>\n",
       "      <th>9</th>\n",
       "      <th>...</th>\n",
       "      <th>11</th>\n",
       "      <th>12</th>\n",
       "      <th>13</th>\n",
       "      <th>14</th>\n",
       "      <th>15</th>\n",
       "      <th>16</th>\n",
       "      <th>17</th>\n",
       "      <th>18</th>\n",
       "      <th>19</th>\n",
       "      <th>20</th>\n",
       "    </tr>\n",
       "  </thead>\n",
       "  <tbody>\n",
       "    <tr>\n",
       "      <th>0</th>\n",
       "      <td>2</td>\n",
       "      <td></td>\n",
       "      <td></td>\n",
       "      <td></td>\n",
       "      <td></td>\n",
       "      <td></td>\n",
       "      <td></td>\n",
       "      <td>2</td>\n",
       "      <td>0</td>\n",
       "      <td>2</td>\n",
       "      <td>...</td>\n",
       "      <td>3</td>\n",
       "      <td>2</td>\n",
       "      <td>8</td>\n",
       "      <td>4</td>\n",
       "      <td>5</td>\n",
       "      <td>9</td>\n",
       "      <td>1</td>\n",
       "      <td>5</td>\n",
       "      <td>1</td>\n",
       "      <td>4</td>\n",
       "    </tr>\n",
       "    <tr>\n",
       "      <th>1</th>\n",
       "      <td>2</td>\n",
       "      <td></td>\n",
       "      <td></td>\n",
       "      <td></td>\n",
       "      <td></td>\n",
       "      <td></td>\n",
       "      <td></td>\n",
       "      <td>3</td>\n",
       "      <td>1</td>\n",
       "      <td>1</td>\n",
       "      <td>...</td>\n",
       "      <td>3</td>\n",
       "      <td>2</td>\n",
       "      <td>1</td>\n",
       "      <td>4</td>\n",
       "      <td>5</td>\n",
       "      <td>9</td>\n",
       "      <td>1</td>\n",
       "      <td>5</td>\n",
       "      <td>1</td>\n",
       "      <td>4</td>\n",
       "    </tr>\n",
       "    <tr>\n",
       "      <th>2</th>\n",
       "      <td>2</td>\n",
       "      <td></td>\n",
       "      <td></td>\n",
       "      <td></td>\n",
       "      <td></td>\n",
       "      <td></td>\n",
       "      <td></td>\n",
       "      <td>4</td>\n",
       "      <td>1</td>\n",
       "      <td>1</td>\n",
       "      <td>...</td>\n",
       "      <td>3</td>\n",
       "      <td>2</td>\n",
       "      <td>8</td>\n",
       "      <td>4</td>\n",
       "      <td>5</td>\n",
       "      <td>9</td>\n",
       "      <td>1</td>\n",
       "      <td>5</td>\n",
       "      <td>1</td>\n",
       "      <td>4</td>\n",
       "    </tr>\n",
       "    <tr>\n",
       "      <th>3</th>\n",
       "      <td>2</td>\n",
       "      <td></td>\n",
       "      <td></td>\n",
       "      <td></td>\n",
       "      <td></td>\n",
       "      <td></td>\n",
       "      <td></td>\n",
       "      <td>5</td>\n",
       "      <td>1</td>\n",
       "      <td>2</td>\n",
       "      <td>...</td>\n",
       "      <td>3</td>\n",
       "      <td>2</td>\n",
       "      <td>8</td>\n",
       "      <td>4</td>\n",
       "      <td>5</td>\n",
       "      <td>5</td>\n",
       "      <td>1</td>\n",
       "      <td>2</td>\n",
       "      <td>1</td>\n",
       "      <td>4</td>\n",
       "    </tr>\n",
       "    <tr>\n",
       "      <th>4</th>\n",
       "      <td>2</td>\n",
       "      <td></td>\n",
       "      <td></td>\n",
       "      <td></td>\n",
       "      <td></td>\n",
       "      <td></td>\n",
       "      <td></td>\n",
       "      <td>6</td>\n",
       "      <td>1</td>\n",
       "      <td>1</td>\n",
       "      <td>...</td>\n",
       "      <td>3</td>\n",
       "      <td>2</td>\n",
       "      <td>1</td>\n",
       "      <td>4</td>\n",
       "      <td>5</td>\n",
       "      <td>5</td>\n",
       "      <td>1</td>\n",
       "      <td>2</td>\n",
       "      <td>1</td>\n",
       "      <td>4</td>\n",
       "    </tr>\n",
       "  </tbody>\n",
       "</table>\n",
       "<p>5 rows × 21 columns</p>\n",
       "</div>"
      ],
      "text/plain": [
       "  0  1  2  3  4  5  6  7  8  9   ... 11 12 13 14 15 16 17 18 19 20\n",
       "0  2                    2  0  2  ...  3  2  8  4  5  9  1  5  1  4\n",
       "1  2                    3  1  1  ...  3  2  1  4  5  9  1  5  1  4\n",
       "2  2                    4  1  1  ...  3  2  8  4  5  9  1  5  1  4\n",
       "3  2                    5  1  2  ...  3  2  8  4  5  5  1  2  1  4\n",
       "4  2                    6  1  1  ...  3  2  1  4  5  5  1  2  1  4\n",
       "\n",
       "[5 rows x 21 columns]"
      ]
     },
     "execution_count": 5,
     "metadata": {},
     "output_type": "execute_result"
    }
   ],
   "source": [
    "#splitting up all the numbers from first column by space delimiter\n",
    "df_1 = df[\"First Column\"].str.split(\" \", expand = True)\n",
    "df_1.head()"
   ]
  },
  {
   "cell_type": "code",
   "execution_count": 6,
   "id": "c048a226",
   "metadata": {},
   "outputs": [
    {
     "data": {
      "text/html": [
       "<div>\n",
       "<style scoped>\n",
       "    .dataframe tbody tr th:only-of-type {\n",
       "        vertical-align: middle;\n",
       "    }\n",
       "\n",
       "    .dataframe tbody tr th {\n",
       "        vertical-align: top;\n",
       "    }\n",
       "\n",
       "    .dataframe thead th {\n",
       "        text-align: right;\n",
       "    }\n",
       "</style>\n",
       "<table border=\"1\" class=\"dataframe\">\n",
       "  <thead>\n",
       "    <tr style=\"text-align: right;\">\n",
       "      <th></th>\n",
       "      <th>0</th>\n",
       "      <th>1</th>\n",
       "      <th>2</th>\n",
       "      <th>3</th>\n",
       "      <th>4</th>\n",
       "      <th>5</th>\n",
       "      <th>6</th>\n",
       "      <th>7</th>\n",
       "      <th>8</th>\n",
       "      <th>9</th>\n",
       "      <th>...</th>\n",
       "      <th>11</th>\n",
       "      <th>12</th>\n",
       "      <th>13</th>\n",
       "      <th>14</th>\n",
       "      <th>15</th>\n",
       "      <th>16</th>\n",
       "      <th>17</th>\n",
       "      <th>18</th>\n",
       "      <th>19</th>\n",
       "      <th>20</th>\n",
       "    </tr>\n",
       "  </thead>\n",
       "  <tbody>\n",
       "    <tr>\n",
       "      <th>8</th>\n",
       "      <td>2</td>\n",
       "      <td></td>\n",
       "      <td></td>\n",
       "      <td></td>\n",
       "      <td></td>\n",
       "      <td></td>\n",
       "      <td>10</td>\n",
       "      <td>1</td>\n",
       "      <td>3</td>\n",
       "      <td>3</td>\n",
       "      <td>...</td>\n",
       "      <td>4</td>\n",
       "      <td>1</td>\n",
       "      <td>4</td>\n",
       "      <td>7</td>\n",
       "      <td>7</td>\n",
       "      <td>1</td>\n",
       "      <td>2</td>\n",
       "      <td>1</td>\n",
       "      <td>4</td>\n",
       "      <td>None</td>\n",
       "    </tr>\n",
       "    <tr>\n",
       "      <th>9</th>\n",
       "      <td>2</td>\n",
       "      <td></td>\n",
       "      <td></td>\n",
       "      <td></td>\n",
       "      <td></td>\n",
       "      <td></td>\n",
       "      <td>11</td>\n",
       "      <td>1</td>\n",
       "      <td>3</td>\n",
       "      <td>2</td>\n",
       "      <td>...</td>\n",
       "      <td>2</td>\n",
       "      <td>1</td>\n",
       "      <td>4</td>\n",
       "      <td>5</td>\n",
       "      <td>5</td>\n",
       "      <td>1</td>\n",
       "      <td>2</td>\n",
       "      <td>1</td>\n",
       "      <td>4</td>\n",
       "      <td>None</td>\n",
       "    </tr>\n",
       "    <tr>\n",
       "      <th>10</th>\n",
       "      <td>2</td>\n",
       "      <td></td>\n",
       "      <td></td>\n",
       "      <td></td>\n",
       "      <td></td>\n",
       "      <td></td>\n",
       "      <td>12</td>\n",
       "      <td>0</td>\n",
       "      <td>1</td>\n",
       "      <td>2</td>\n",
       "      <td>...</td>\n",
       "      <td>1</td>\n",
       "      <td>8</td>\n",
       "      <td>4</td>\n",
       "      <td>5</td>\n",
       "      <td>5</td>\n",
       "      <td>1</td>\n",
       "      <td>2</td>\n",
       "      <td>1</td>\n",
       "      <td>4</td>\n",
       "      <td>None</td>\n",
       "    </tr>\n",
       "    <tr>\n",
       "      <th>11</th>\n",
       "      <td>2</td>\n",
       "      <td></td>\n",
       "      <td></td>\n",
       "      <td></td>\n",
       "      <td></td>\n",
       "      <td></td>\n",
       "      <td>13</td>\n",
       "      <td>1</td>\n",
       "      <td>3</td>\n",
       "      <td>3</td>\n",
       "      <td>...</td>\n",
       "      <td>2</td>\n",
       "      <td>1</td>\n",
       "      <td>4</td>\n",
       "      <td>1</td>\n",
       "      <td>9</td>\n",
       "      <td>2</td>\n",
       "      <td>5</td>\n",
       "      <td>1</td>\n",
       "      <td>4</td>\n",
       "      <td>None</td>\n",
       "    </tr>\n",
       "    <tr>\n",
       "      <th>12</th>\n",
       "      <td>2</td>\n",
       "      <td></td>\n",
       "      <td></td>\n",
       "      <td></td>\n",
       "      <td></td>\n",
       "      <td></td>\n",
       "      <td>14</td>\n",
       "      <td>1</td>\n",
       "      <td>2</td>\n",
       "      <td>2</td>\n",
       "      <td>...</td>\n",
       "      <td>1</td>\n",
       "      <td>8</td>\n",
       "      <td>4</td>\n",
       "      <td>5</td>\n",
       "      <td>5</td>\n",
       "      <td>2</td>\n",
       "      <td>1</td>\n",
       "      <td>1</td>\n",
       "      <td>3</td>\n",
       "      <td>None</td>\n",
       "    </tr>\n",
       "  </tbody>\n",
       "</table>\n",
       "<p>5 rows × 21 columns</p>\n",
       "</div>"
      ],
      "text/plain": [
       "   0  1  2  3  4  5   6  7  8  9   ... 11 12 13 14 15 16 17 18 19    20\n",
       "8   2                 10  1  3  3  ...  4  1  4  7  7  1  2  1  4  None\n",
       "9   2                 11  1  3  2  ...  2  1  4  5  5  1  2  1  4  None\n",
       "10  2                 12  0  1  2  ...  1  8  4  5  5  1  2  1  4  None\n",
       "11  2                 13  1  3  3  ...  2  1  4  1  9  2  5  1  4  None\n",
       "12  2                 14  1  2  2  ...  1  8  4  5  5  2  1  1  3  None\n",
       "\n",
       "[5 rows x 21 columns]"
      ]
     },
     "execution_count": 6,
     "metadata": {},
     "output_type": "execute_result"
    }
   ],
   "source": [
    "#dropping first 8 lines due to the odd split in data \n",
    "df_1 = df_1.drop([0,1,2,3,4,5,6,7])\n",
    "df_1.head()"
   ]
  },
  {
   "cell_type": "code",
   "execution_count": 7,
   "id": "cde1406f",
   "metadata": {},
   "outputs": [
    {
     "data": {
      "text/html": [
       "<div>\n",
       "<style scoped>\n",
       "    .dataframe tbody tr th:only-of-type {\n",
       "        vertical-align: middle;\n",
       "    }\n",
       "\n",
       "    .dataframe tbody tr th {\n",
       "        vertical-align: top;\n",
       "    }\n",
       "\n",
       "    .dataframe thead th {\n",
       "        text-align: right;\n",
       "    }\n",
       "</style>\n",
       "<table border=\"1\" class=\"dataframe\">\n",
       "  <thead>\n",
       "    <tr style=\"text-align: right;\">\n",
       "      <th></th>\n",
       "      <th>0</th>\n",
       "      <th>1</th>\n",
       "      <th>2</th>\n",
       "      <th>3</th>\n",
       "      <th>4</th>\n",
       "      <th>5</th>\n",
       "      <th>6</th>\n",
       "      <th>7</th>\n",
       "      <th>8</th>\n",
       "      <th>9</th>\n",
       "      <th>...</th>\n",
       "      <th>11</th>\n",
       "      <th>12</th>\n",
       "      <th>13</th>\n",
       "      <th>14</th>\n",
       "      <th>15</th>\n",
       "      <th>16</th>\n",
       "      <th>17</th>\n",
       "      <th>18</th>\n",
       "      <th>19</th>\n",
       "      <th>20</th>\n",
       "    </tr>\n",
       "  </thead>\n",
       "  <tbody>\n",
       "    <tr>\n",
       "      <th>100006</th>\n",
       "      <td>2</td>\n",
       "      <td></td>\n",
       "      <td>100008</td>\n",
       "      <td>1</td>\n",
       "      <td>2</td>\n",
       "      <td>2</td>\n",
       "      <td>3</td>\n",
       "      <td>4</td>\n",
       "      <td>1</td>\n",
       "      <td>4</td>\n",
       "      <td>...</td>\n",
       "      <td>5</td>\n",
       "      <td>2</td>\n",
       "      <td>1</td>\n",
       "      <td>1</td>\n",
       "      <td>4</td>\n",
       "      <td>None</td>\n",
       "      <td>None</td>\n",
       "      <td>None</td>\n",
       "      <td>None</td>\n",
       "      <td>None</td>\n",
       "    </tr>\n",
       "    <tr>\n",
       "      <th>100007</th>\n",
       "      <td>2</td>\n",
       "      <td></td>\n",
       "      <td>100009</td>\n",
       "      <td>1</td>\n",
       "      <td>1</td>\n",
       "      <td>3</td>\n",
       "      <td>3</td>\n",
       "      <td>3</td>\n",
       "      <td>1</td>\n",
       "      <td>4</td>\n",
       "      <td>...</td>\n",
       "      <td>6</td>\n",
       "      <td>1</td>\n",
       "      <td>2</td>\n",
       "      <td>1</td>\n",
       "      <td>4</td>\n",
       "      <td>None</td>\n",
       "      <td>None</td>\n",
       "      <td>None</td>\n",
       "      <td>None</td>\n",
       "      <td>None</td>\n",
       "    </tr>\n",
       "    <tr>\n",
       "      <th>100008</th>\n",
       "      <td>2</td>\n",
       "      <td></td>\n",
       "      <td>100010</td>\n",
       "      <td>1</td>\n",
       "      <td>3</td>\n",
       "      <td>2</td>\n",
       "      <td>3</td>\n",
       "      <td>2</td>\n",
       "      <td>1</td>\n",
       "      <td>4</td>\n",
       "      <td>...</td>\n",
       "      <td>5</td>\n",
       "      <td>1</td>\n",
       "      <td>2</td>\n",
       "      <td>1</td>\n",
       "      <td>4</td>\n",
       "      <td>None</td>\n",
       "      <td>None</td>\n",
       "      <td>None</td>\n",
       "      <td>None</td>\n",
       "      <td>None</td>\n",
       "    </tr>\n",
       "    <tr>\n",
       "      <th>100009</th>\n",
       "      <td>2</td>\n",
       "      <td></td>\n",
       "      <td>100011</td>\n",
       "      <td>1</td>\n",
       "      <td>3</td>\n",
       "      <td>1</td>\n",
       "      <td>3</td>\n",
       "      <td>5</td>\n",
       "      <td>8</td>\n",
       "      <td>4</td>\n",
       "      <td>...</td>\n",
       "      <td>9</td>\n",
       "      <td>1</td>\n",
       "      <td>5</td>\n",
       "      <td>1</td>\n",
       "      <td>4</td>\n",
       "      <td>None</td>\n",
       "      <td>None</td>\n",
       "      <td>None</td>\n",
       "      <td>None</td>\n",
       "      <td>None</td>\n",
       "    </tr>\n",
       "    <tr>\n",
       "      <th>100010</th>\n",
       "      <td>2</td>\n",
       "      <td></td>\n",
       "      <td>100012</td>\n",
       "      <td>1</td>\n",
       "      <td>3</td>\n",
       "      <td>2</td>\n",
       "      <td>3</td>\n",
       "      <td>3</td>\n",
       "      <td>1</td>\n",
       "      <td>4</td>\n",
       "      <td>...</td>\n",
       "      <td>9</td>\n",
       "      <td>3</td>\n",
       "      <td>5</td>\n",
       "      <td>1</td>\n",
       "      <td>4</td>\n",
       "      <td>None</td>\n",
       "      <td>None</td>\n",
       "      <td>None</td>\n",
       "      <td>None</td>\n",
       "      <td>None</td>\n",
       "    </tr>\n",
       "  </tbody>\n",
       "</table>\n",
       "<p>5 rows × 21 columns</p>\n",
       "</div>"
      ],
      "text/plain": [
       "       0  1       2  3  4  5  6  7  8  9   ... 11 12 13 14 15    16    17  \\\n",
       "100006  2     100008  1  2  2  3  4  1  4  ...  5  2  1  1  4  None  None   \n",
       "100007  2     100009  1  1  3  3  3  1  4  ...  6  1  2  1  4  None  None   \n",
       "100008  2     100010  1  3  2  3  2  1  4  ...  5  1  2  1  4  None  None   \n",
       "100009  2     100011  1  3  1  3  5  8  4  ...  9  1  5  1  4  None  None   \n",
       "100010  2     100012  1  3  2  3  3  1  4  ...  9  3  5  1  4  None  None   \n",
       "\n",
       "          18    19    20  \n",
       "100006  None  None  None  \n",
       "100007  None  None  None  \n",
       "100008  None  None  None  \n",
       "100009  None  None  None  \n",
       "100010  None  None  None  \n",
       "\n",
       "[5 rows x 21 columns]"
      ]
     },
     "execution_count": 7,
     "metadata": {},
     "output_type": "execute_result"
    }
   ],
   "source": [
    "#splitting up dataset to different datasets\n",
    "#had come to a realization earlier on that because a space delimiter was added to the data, each time the rows\n",
    "#introduced an extra digit, all of my data shifted therefore the only way out of it was to split up the data like this:\n",
    "df_2 = df_1.iloc[:997,:]\n",
    "df_3 = df_1.iloc[998:9997,:]\n",
    "df_4 = df_1.iloc[9998:99997,:]\n",
    "df_5 = df_1.iloc[99998:999997,:]\n",
    "df_5.head()"
   ]
  },
  {
   "cell_type": "code",
   "execution_count": 8,
   "id": "d88c93de",
   "metadata": {},
   "outputs": [
    {
     "data": {
      "text/html": [
       "<div>\n",
       "<style scoped>\n",
       "    .dataframe tbody tr th:only-of-type {\n",
       "        vertical-align: middle;\n",
       "    }\n",
       "\n",
       "    .dataframe tbody tr th {\n",
       "        vertical-align: top;\n",
       "    }\n",
       "\n",
       "    .dataframe thead th {\n",
       "        text-align: right;\n",
       "    }\n",
       "</style>\n",
       "<table border=\"1\" class=\"dataframe\">\n",
       "  <thead>\n",
       "    <tr style=\"text-align: right;\">\n",
       "      <th></th>\n",
       "      <th>0</th>\n",
       "      <th>4</th>\n",
       "      <th>5</th>\n",
       "      <th>6</th>\n",
       "      <th>7</th>\n",
       "      <th>8</th>\n",
       "      <th>9</th>\n",
       "      <th>10</th>\n",
       "      <th>11</th>\n",
       "      <th>12</th>\n",
       "      <th>13</th>\n",
       "      <th>14</th>\n",
       "      <th>15</th>\n",
       "      <th>16</th>\n",
       "      <th>17</th>\n",
       "    </tr>\n",
       "  </thead>\n",
       "  <tbody>\n",
       "    <tr>\n",
       "      <th>1006</th>\n",
       "      <td>2</td>\n",
       "      <td>1008</td>\n",
       "      <td>1</td>\n",
       "      <td>3</td>\n",
       "      <td>2</td>\n",
       "      <td>3</td>\n",
       "      <td>2</td>\n",
       "      <td>8</td>\n",
       "      <td>4</td>\n",
       "      <td>3</td>\n",
       "      <td>9</td>\n",
       "      <td>2</td>\n",
       "      <td>5</td>\n",
       "      <td>1</td>\n",
       "      <td>4</td>\n",
       "    </tr>\n",
       "    <tr>\n",
       "      <th>1007</th>\n",
       "      <td>2</td>\n",
       "      <td>1009</td>\n",
       "      <td>0</td>\n",
       "      <td>1</td>\n",
       "      <td>2</td>\n",
       "      <td>3</td>\n",
       "      <td>3</td>\n",
       "      <td>1</td>\n",
       "      <td>4</td>\n",
       "      <td>5</td>\n",
       "      <td>9</td>\n",
       "      <td>1</td>\n",
       "      <td>5</td>\n",
       "      <td>1</td>\n",
       "      <td>4</td>\n",
       "    </tr>\n",
       "    <tr>\n",
       "      <th>1008</th>\n",
       "      <td>2</td>\n",
       "      <td>1010</td>\n",
       "      <td>1</td>\n",
       "      <td>1</td>\n",
       "      <td>3</td>\n",
       "      <td>3</td>\n",
       "      <td>4</td>\n",
       "      <td>1</td>\n",
       "      <td>4</td>\n",
       "      <td>5</td>\n",
       "      <td>9</td>\n",
       "      <td>1</td>\n",
       "      <td>5</td>\n",
       "      <td>1</td>\n",
       "      <td>4</td>\n",
       "    </tr>\n",
       "    <tr>\n",
       "      <th>1009</th>\n",
       "      <td>2</td>\n",
       "      <td>1011</td>\n",
       "      <td>1</td>\n",
       "      <td>3</td>\n",
       "      <td>1</td>\n",
       "      <td>3</td>\n",
       "      <td>2</td>\n",
       "      <td>8</td>\n",
       "      <td>4</td>\n",
       "      <td>7</td>\n",
       "      <td>9</td>\n",
       "      <td>1</td>\n",
       "      <td>5</td>\n",
       "      <td>1</td>\n",
       "      <td>4</td>\n",
       "    </tr>\n",
       "    <tr>\n",
       "      <th>1010</th>\n",
       "      <td>2</td>\n",
       "      <td>1012</td>\n",
       "      <td>1</td>\n",
       "      <td>2</td>\n",
       "      <td>3</td>\n",
       "      <td>3</td>\n",
       "      <td>2</td>\n",
       "      <td>8</td>\n",
       "      <td>4</td>\n",
       "      <td>5</td>\n",
       "      <td>5</td>\n",
       "      <td>1</td>\n",
       "      <td>2</td>\n",
       "      <td>1</td>\n",
       "      <td>4</td>\n",
       "    </tr>\n",
       "  </tbody>\n",
       "</table>\n",
       "</div>"
      ],
      "text/plain": [
       "     0     4  5  6  7  8  9  10 11 12 13 14 15 16 17\n",
       "1006  2  1008  1  3  2  3  2  8  4  3  9  2  5  1  4\n",
       "1007  2  1009  0  1  2  3  3  1  4  5  9  1  5  1  4\n",
       "1008  2  1010  1  1  3  3  4  1  4  5  9  1  5  1  4\n",
       "1009  2  1011  1  3  1  3  2  8  4  7  9  1  5  1  4\n",
       "1010  2  1012  1  2  3  3  2  8  4  5  5  1  2  1  4"
      ]
     },
     "execution_count": 8,
     "metadata": {},
     "output_type": "execute_result"
    }
   ],
   "source": [
    "#dropping above empty columns in df_3\n",
    "df_3 = df_3.drop([1,2,3,18,19,20], axis=1)\n",
    "df_3.head()"
   ]
  },
  {
   "cell_type": "code",
   "execution_count": 9,
   "id": "4e529d0c",
   "metadata": {},
   "outputs": [
    {
     "data": {
      "text/html": [
       "<div>\n",
       "<style scoped>\n",
       "    .dataframe tbody tr th:only-of-type {\n",
       "        vertical-align: middle;\n",
       "    }\n",
       "\n",
       "    .dataframe tbody tr th {\n",
       "        vertical-align: top;\n",
       "    }\n",
       "\n",
       "    .dataframe thead th {\n",
       "        text-align: right;\n",
       "    }\n",
       "</style>\n",
       "<table border=\"1\" class=\"dataframe\">\n",
       "  <thead>\n",
       "    <tr style=\"text-align: right;\">\n",
       "      <th></th>\n",
       "      <th>0</th>\n",
       "      <th>3</th>\n",
       "      <th>4</th>\n",
       "      <th>5</th>\n",
       "      <th>6</th>\n",
       "      <th>7</th>\n",
       "      <th>8</th>\n",
       "      <th>9</th>\n",
       "      <th>10</th>\n",
       "      <th>11</th>\n",
       "      <th>12</th>\n",
       "      <th>13</th>\n",
       "      <th>14</th>\n",
       "      <th>15</th>\n",
       "      <th>16</th>\n",
       "    </tr>\n",
       "  </thead>\n",
       "  <tbody>\n",
       "    <tr>\n",
       "      <th>10006</th>\n",
       "      <td>2</td>\n",
       "      <td>10008</td>\n",
       "      <td>1</td>\n",
       "      <td>3</td>\n",
       "      <td>2</td>\n",
       "      <td>3</td>\n",
       "      <td>3</td>\n",
       "      <td>1</td>\n",
       "      <td>4</td>\n",
       "      <td>5</td>\n",
       "      <td>9</td>\n",
       "      <td>1</td>\n",
       "      <td>5</td>\n",
       "      <td>1</td>\n",
       "      <td>4</td>\n",
       "    </tr>\n",
       "    <tr>\n",
       "      <th>10007</th>\n",
       "      <td>2</td>\n",
       "      <td>10009</td>\n",
       "      <td>1</td>\n",
       "      <td>2</td>\n",
       "      <td>1</td>\n",
       "      <td>3</td>\n",
       "      <td>1</td>\n",
       "      <td>8</td>\n",
       "      <td>4</td>\n",
       "      <td>7</td>\n",
       "      <td>9</td>\n",
       "      <td>2</td>\n",
       "      <td>5</td>\n",
       "      <td>1</td>\n",
       "      <td>4</td>\n",
       "    </tr>\n",
       "    <tr>\n",
       "      <th>10008</th>\n",
       "      <td>2</td>\n",
       "      <td>10010</td>\n",
       "      <td>0</td>\n",
       "      <td>1</td>\n",
       "      <td>2</td>\n",
       "      <td>3</td>\n",
       "      <td>2</td>\n",
       "      <td>1</td>\n",
       "      <td>4</td>\n",
       "      <td>5</td>\n",
       "      <td>5</td>\n",
       "      <td>2</td>\n",
       "      <td>1</td>\n",
       "      <td>1</td>\n",
       "      <td>4</td>\n",
       "    </tr>\n",
       "    <tr>\n",
       "      <th>10009</th>\n",
       "      <td>2</td>\n",
       "      <td>10011</td>\n",
       "      <td>1</td>\n",
       "      <td>1</td>\n",
       "      <td>2</td>\n",
       "      <td>2</td>\n",
       "      <td>2</td>\n",
       "      <td>8</td>\n",
       "      <td>4</td>\n",
       "      <td>5</td>\n",
       "      <td>9</td>\n",
       "      <td>2</td>\n",
       "      <td>5</td>\n",
       "      <td>1</td>\n",
       "      <td>4</td>\n",
       "    </tr>\n",
       "    <tr>\n",
       "      <th>10010</th>\n",
       "      <td>2</td>\n",
       "      <td>10012</td>\n",
       "      <td>1</td>\n",
       "      <td>3</td>\n",
       "      <td>2</td>\n",
       "      <td>3</td>\n",
       "      <td>4</td>\n",
       "      <td>1</td>\n",
       "      <td>4</td>\n",
       "      <td>5</td>\n",
       "      <td>5</td>\n",
       "      <td>2</td>\n",
       "      <td>1</td>\n",
       "      <td>1</td>\n",
       "      <td>4</td>\n",
       "    </tr>\n",
       "  </tbody>\n",
       "</table>\n",
       "</div>"
      ],
      "text/plain": [
       "      0      3  4  5  6  7  8  9  10 11 12 13 14 15 16\n",
       "10006  2  10008  1  3  2  3  3  1  4  5  9  1  5  1  4\n",
       "10007  2  10009  1  2  1  3  1  8  4  7  9  2  5  1  4\n",
       "10008  2  10010  0  1  2  3  2  1  4  5  5  2  1  1  4\n",
       "10009  2  10011  1  1  2  2  2  8  4  5  9  2  5  1  4\n",
       "10010  2  10012  1  3  2  3  4  1  4  5  5  2  1  1  4"
      ]
     },
     "execution_count": 9,
     "metadata": {},
     "output_type": "execute_result"
    }
   ],
   "source": [
    "#dropping above empty columns in df_4\n",
    "df_4 = df_4.drop([1,2,17,18,19,20], axis=1)\n",
    "df_4.head()"
   ]
  },
  {
   "cell_type": "code",
   "execution_count": 10,
   "id": "042e8eae",
   "metadata": {},
   "outputs": [
    {
     "name": "stdout",
     "output_type": "stream",
     "text": [
      "<class 'pandas.core.frame.DataFrame'>\n",
      "Int64Index: 899999 entries, 100006 to 1000004\n",
      "Data columns (total 15 columns):\n",
      " #   Column  Non-Null Count   Dtype \n",
      "---  ------  --------------   ----- \n",
      " 0   0       899999 non-null  object\n",
      " 1   2       899999 non-null  object\n",
      " 2   3       899999 non-null  object\n",
      " 3   4       899999 non-null  object\n",
      " 4   5       899999 non-null  object\n",
      " 5   6       899999 non-null  object\n",
      " 6   7       899999 non-null  object\n",
      " 7   8       899999 non-null  object\n",
      " 8   9       899999 non-null  object\n",
      " 9   10      899999 non-null  object\n",
      " 10  11      899999 non-null  object\n",
      " 11  12      899999 non-null  object\n",
      " 12  13      899999 non-null  object\n",
      " 13  14      899999 non-null  object\n",
      " 14  15      899992 non-null  object\n",
      "dtypes: object(15)\n",
      "memory usage: 109.9+ MB\n"
     ]
    }
   ],
   "source": [
    "#dropping above empty columns in df_5\n",
    "df_5 = df_5.drop([1,16,17,18,19,20], axis=1)\n",
    "df_5.info()"
   ]
  },
  {
   "cell_type": "code",
   "execution_count": 11,
   "id": "a31719bb",
   "metadata": {},
   "outputs": [
    {
     "data": {
      "text/html": [
       "<div>\n",
       "<style scoped>\n",
       "    .dataframe tbody tr th:only-of-type {\n",
       "        vertical-align: middle;\n",
       "    }\n",
       "\n",
       "    .dataframe tbody tr th {\n",
       "        vertical-align: top;\n",
       "    }\n",
       "\n",
       "    .dataframe thead th {\n",
       "        text-align: right;\n",
       "    }\n",
       "</style>\n",
       "<table border=\"1\" class=\"dataframe\">\n",
       "  <thead>\n",
       "    <tr style=\"text-align: right;\">\n",
       "      <th></th>\n",
       "      <th>0</th>\n",
       "      <th>3</th>\n",
       "      <th>4</th>\n",
       "      <th>5</th>\n",
       "      <th>6</th>\n",
       "      <th>7</th>\n",
       "      <th>8</th>\n",
       "      <th>9</th>\n",
       "      <th>10</th>\n",
       "      <th>11</th>\n",
       "      <th>12</th>\n",
       "      <th>13</th>\n",
       "      <th>14</th>\n",
       "      <th>15</th>\n",
       "      <th>16</th>\n",
       "    </tr>\n",
       "  </thead>\n",
       "  <tbody>\n",
       "    <tr>\n",
       "      <th>10006</th>\n",
       "      <td>2</td>\n",
       "      <td>10008</td>\n",
       "      <td>1</td>\n",
       "      <td>3</td>\n",
       "      <td>2</td>\n",
       "      <td>3</td>\n",
       "      <td>3</td>\n",
       "      <td>1</td>\n",
       "      <td>4</td>\n",
       "      <td>5</td>\n",
       "      <td>9</td>\n",
       "      <td>1</td>\n",
       "      <td>5</td>\n",
       "      <td>1</td>\n",
       "      <td>4</td>\n",
       "    </tr>\n",
       "    <tr>\n",
       "      <th>10007</th>\n",
       "      <td>2</td>\n",
       "      <td>10009</td>\n",
       "      <td>1</td>\n",
       "      <td>2</td>\n",
       "      <td>1</td>\n",
       "      <td>3</td>\n",
       "      <td>1</td>\n",
       "      <td>8</td>\n",
       "      <td>4</td>\n",
       "      <td>7</td>\n",
       "      <td>9</td>\n",
       "      <td>2</td>\n",
       "      <td>5</td>\n",
       "      <td>1</td>\n",
       "      <td>4</td>\n",
       "    </tr>\n",
       "    <tr>\n",
       "      <th>10008</th>\n",
       "      <td>2</td>\n",
       "      <td>10010</td>\n",
       "      <td>0</td>\n",
       "      <td>1</td>\n",
       "      <td>2</td>\n",
       "      <td>3</td>\n",
       "      <td>2</td>\n",
       "      <td>1</td>\n",
       "      <td>4</td>\n",
       "      <td>5</td>\n",
       "      <td>5</td>\n",
       "      <td>2</td>\n",
       "      <td>1</td>\n",
       "      <td>1</td>\n",
       "      <td>4</td>\n",
       "    </tr>\n",
       "    <tr>\n",
       "      <th>10009</th>\n",
       "      <td>2</td>\n",
       "      <td>10011</td>\n",
       "      <td>1</td>\n",
       "      <td>1</td>\n",
       "      <td>2</td>\n",
       "      <td>2</td>\n",
       "      <td>2</td>\n",
       "      <td>8</td>\n",
       "      <td>4</td>\n",
       "      <td>5</td>\n",
       "      <td>9</td>\n",
       "      <td>2</td>\n",
       "      <td>5</td>\n",
       "      <td>1</td>\n",
       "      <td>4</td>\n",
       "    </tr>\n",
       "    <tr>\n",
       "      <th>10010</th>\n",
       "      <td>2</td>\n",
       "      <td>10012</td>\n",
       "      <td>1</td>\n",
       "      <td>3</td>\n",
       "      <td>2</td>\n",
       "      <td>3</td>\n",
       "      <td>4</td>\n",
       "      <td>1</td>\n",
       "      <td>4</td>\n",
       "      <td>5</td>\n",
       "      <td>5</td>\n",
       "      <td>2</td>\n",
       "      <td>1</td>\n",
       "      <td>1</td>\n",
       "      <td>4</td>\n",
       "    </tr>\n",
       "  </tbody>\n",
       "</table>\n",
       "</div>"
      ],
      "text/plain": [
       "      0      3  4  5  6  7  8  9  10 11 12 13 14 15 16\n",
       "10006  2  10008  1  3  2  3  3  1  4  5  9  1  5  1  4\n",
       "10007  2  10009  1  2  1  3  1  8  4  7  9  2  5  1  4\n",
       "10008  2  10010  0  1  2  3  2  1  4  5  5  2  1  1  4\n",
       "10009  2  10011  1  1  2  2  2  8  4  5  9  2  5  1  4\n",
       "10010  2  10012  1  3  2  3  4  1  4  5  5  2  1  1  4"
      ]
     },
     "execution_count": 11,
     "metadata": {},
     "output_type": "execute_result"
    }
   ],
   "source": [
    "df_4.head()"
   ]
  },
  {
   "cell_type": "code",
   "execution_count": 12,
   "id": "9703d617",
   "metadata": {},
   "outputs": [
    {
     "data": {
      "text/html": [
       "<div>\n",
       "<style scoped>\n",
       "    .dataframe tbody tr th:only-of-type {\n",
       "        vertical-align: middle;\n",
       "    }\n",
       "\n",
       "    .dataframe tbody tr th {\n",
       "        vertical-align: top;\n",
       "    }\n",
       "\n",
       "    .dataframe thead th {\n",
       "        text-align: right;\n",
       "    }\n",
       "</style>\n",
       "<table border=\"1\" class=\"dataframe\">\n",
       "  <thead>\n",
       "    <tr style=\"text-align: right;\">\n",
       "      <th></th>\n",
       "      <th>Enterprise Flag</th>\n",
       "      <th>Record Number</th>\n",
       "      <th>MSA Code</th>\n",
       "      <th>2010 Census Tract - % Minority</th>\n",
       "      <th>Tract Income Ratio</th>\n",
       "      <th>Borrower Income Ratio</th>\n",
       "      <th>LTV at Origination</th>\n",
       "      <th>Purpose of Loan</th>\n",
       "      <th>Federal Guarantee</th>\n",
       "      <th>Borrower Race or National Origin</th>\n",
       "      <th>Co Borrower Race or Natural Origin</th>\n",
       "      <th>Borrower Gender</th>\n",
       "      <th>Co Borrower Gender</th>\n",
       "      <th>Number of Units</th>\n",
       "      <th>Units - Affordability Category</th>\n",
       "    </tr>\n",
       "  </thead>\n",
       "  <tbody>\n",
       "    <tr>\n",
       "      <th>100006</th>\n",
       "      <td>2</td>\n",
       "      <td>100008</td>\n",
       "      <td>1</td>\n",
       "      <td>2</td>\n",
       "      <td>2</td>\n",
       "      <td>3</td>\n",
       "      <td>4</td>\n",
       "      <td>1</td>\n",
       "      <td>4</td>\n",
       "      <td>5</td>\n",
       "      <td>5</td>\n",
       "      <td>2</td>\n",
       "      <td>1</td>\n",
       "      <td>1</td>\n",
       "      <td>4</td>\n",
       "    </tr>\n",
       "    <tr>\n",
       "      <th>100007</th>\n",
       "      <td>2</td>\n",
       "      <td>100009</td>\n",
       "      <td>1</td>\n",
       "      <td>1</td>\n",
       "      <td>3</td>\n",
       "      <td>3</td>\n",
       "      <td>3</td>\n",
       "      <td>1</td>\n",
       "      <td>4</td>\n",
       "      <td>6</td>\n",
       "      <td>6</td>\n",
       "      <td>1</td>\n",
       "      <td>2</td>\n",
       "      <td>1</td>\n",
       "      <td>4</td>\n",
       "    </tr>\n",
       "    <tr>\n",
       "      <th>100008</th>\n",
       "      <td>2</td>\n",
       "      <td>100010</td>\n",
       "      <td>1</td>\n",
       "      <td>3</td>\n",
       "      <td>2</td>\n",
       "      <td>3</td>\n",
       "      <td>2</td>\n",
       "      <td>1</td>\n",
       "      <td>4</td>\n",
       "      <td>5</td>\n",
       "      <td>5</td>\n",
       "      <td>1</td>\n",
       "      <td>2</td>\n",
       "      <td>1</td>\n",
       "      <td>4</td>\n",
       "    </tr>\n",
       "    <tr>\n",
       "      <th>100009</th>\n",
       "      <td>2</td>\n",
       "      <td>100011</td>\n",
       "      <td>1</td>\n",
       "      <td>3</td>\n",
       "      <td>1</td>\n",
       "      <td>3</td>\n",
       "      <td>5</td>\n",
       "      <td>8</td>\n",
       "      <td>4</td>\n",
       "      <td>3</td>\n",
       "      <td>9</td>\n",
       "      <td>1</td>\n",
       "      <td>5</td>\n",
       "      <td>1</td>\n",
       "      <td>4</td>\n",
       "    </tr>\n",
       "    <tr>\n",
       "      <th>100010</th>\n",
       "      <td>2</td>\n",
       "      <td>100012</td>\n",
       "      <td>1</td>\n",
       "      <td>3</td>\n",
       "      <td>2</td>\n",
       "      <td>3</td>\n",
       "      <td>3</td>\n",
       "      <td>1</td>\n",
       "      <td>4</td>\n",
       "      <td>9</td>\n",
       "      <td>9</td>\n",
       "      <td>3</td>\n",
       "      <td>5</td>\n",
       "      <td>1</td>\n",
       "      <td>4</td>\n",
       "    </tr>\n",
       "  </tbody>\n",
       "</table>\n",
       "</div>"
      ],
      "text/plain": [
       "       Enterprise Flag Record Number MSA Code 2010 Census Tract - % Minority  \\\n",
       "100006               2        100008        1                              2   \n",
       "100007               2        100009        1                              1   \n",
       "100008               2        100010        1                              3   \n",
       "100009               2        100011        1                              3   \n",
       "100010               2        100012        1                              3   \n",
       "\n",
       "       Tract Income Ratio Borrower Income Ratio LTV at Origination  \\\n",
       "100006                  2                     3                  4   \n",
       "100007                  3                     3                  3   \n",
       "100008                  2                     3                  2   \n",
       "100009                  1                     3                  5   \n",
       "100010                  2                     3                  3   \n",
       "\n",
       "       Purpose of Loan Federal Guarantee Borrower Race or National Origin  \\\n",
       "100006               1                 4                                5   \n",
       "100007               1                 4                                6   \n",
       "100008               1                 4                                5   \n",
       "100009               8                 4                                3   \n",
       "100010               1                 4                                9   \n",
       "\n",
       "       Co Borrower Race or Natural Origin Borrower Gender Co Borrower Gender  \\\n",
       "100006                                  5               2                  1   \n",
       "100007                                  6               1                  2   \n",
       "100008                                  5               1                  2   \n",
       "100009                                  9               1                  5   \n",
       "100010                                  9               3                  5   \n",
       "\n",
       "       Number of Units Units - Affordability Category  \n",
       "100006               1                              4  \n",
       "100007               1                              4  \n",
       "100008               1                              4  \n",
       "100009               1                              4  \n",
       "100010               1                              4  "
      ]
     },
     "execution_count": 12,
     "metadata": {},
     "output_type": "execute_result"
    }
   ],
   "source": [
    "#renaming all the columns in df5\n",
    "df_5.columns = [\"Enterprise Flag\",\"Record Number\",\"MSA Code\",\"2010 Census Tract - % Minority\",\"Tract Income Ratio\",\"Borrower Income Ratio\",\"LTV at Origination\",\"Purpose of Loan\",\"Federal Guarantee\",\"Borrower Race or National Origin\",\"Co Borrower Race or Natural Origin\",\"Borrower Gender\",\"Co Borrower Gender\",\"Number of Units\",\"Units - Affordability Category\"]\n",
    "df_5.head()"
   ]
  },
  {
   "cell_type": "code",
   "execution_count": 13,
   "id": "cce04445",
   "metadata": {},
   "outputs": [
    {
     "data": {
      "text/html": [
       "<div>\n",
       "<style scoped>\n",
       "    .dataframe tbody tr th:only-of-type {\n",
       "        vertical-align: middle;\n",
       "    }\n",
       "\n",
       "    .dataframe tbody tr th {\n",
       "        vertical-align: top;\n",
       "    }\n",
       "\n",
       "    .dataframe thead th {\n",
       "        text-align: right;\n",
       "    }\n",
       "</style>\n",
       "<table border=\"1\" class=\"dataframe\">\n",
       "  <thead>\n",
       "    <tr style=\"text-align: right;\">\n",
       "      <th></th>\n",
       "      <th>Enterprise Flag</th>\n",
       "      <th>Record Number</th>\n",
       "      <th>MSA Code</th>\n",
       "      <th>2010 Census Tract - % Minority</th>\n",
       "      <th>Tract Income Ratio</th>\n",
       "      <th>Borrower Income Ratio</th>\n",
       "      <th>LTV at Origination</th>\n",
       "      <th>Purpose of Loan</th>\n",
       "      <th>Federal Guarantee</th>\n",
       "      <th>Borrower Race or Natural Origin</th>\n",
       "      <th>Co Borrower Race or Natural Origin</th>\n",
       "      <th>Borrower Gender</th>\n",
       "      <th>Co Borrower Gender</th>\n",
       "      <th>Number of Units</th>\n",
       "      <th>Units - Affordability Category</th>\n",
       "    </tr>\n",
       "  </thead>\n",
       "  <tbody>\n",
       "    <tr>\n",
       "      <th>10006</th>\n",
       "      <td>2</td>\n",
       "      <td>10008</td>\n",
       "      <td>1</td>\n",
       "      <td>3</td>\n",
       "      <td>2</td>\n",
       "      <td>3</td>\n",
       "      <td>3</td>\n",
       "      <td>1</td>\n",
       "      <td>4</td>\n",
       "      <td>5</td>\n",
       "      <td>9</td>\n",
       "      <td>1</td>\n",
       "      <td>5</td>\n",
       "      <td>1</td>\n",
       "      <td>4</td>\n",
       "    </tr>\n",
       "    <tr>\n",
       "      <th>10007</th>\n",
       "      <td>2</td>\n",
       "      <td>10009</td>\n",
       "      <td>1</td>\n",
       "      <td>2</td>\n",
       "      <td>1</td>\n",
       "      <td>3</td>\n",
       "      <td>1</td>\n",
       "      <td>8</td>\n",
       "      <td>4</td>\n",
       "      <td>7</td>\n",
       "      <td>9</td>\n",
       "      <td>2</td>\n",
       "      <td>5</td>\n",
       "      <td>1</td>\n",
       "      <td>4</td>\n",
       "    </tr>\n",
       "    <tr>\n",
       "      <th>10008</th>\n",
       "      <td>2</td>\n",
       "      <td>10010</td>\n",
       "      <td>0</td>\n",
       "      <td>1</td>\n",
       "      <td>2</td>\n",
       "      <td>3</td>\n",
       "      <td>2</td>\n",
       "      <td>1</td>\n",
       "      <td>4</td>\n",
       "      <td>5</td>\n",
       "      <td>5</td>\n",
       "      <td>2</td>\n",
       "      <td>1</td>\n",
       "      <td>1</td>\n",
       "      <td>4</td>\n",
       "    </tr>\n",
       "    <tr>\n",
       "      <th>10009</th>\n",
       "      <td>2</td>\n",
       "      <td>10011</td>\n",
       "      <td>1</td>\n",
       "      <td>1</td>\n",
       "      <td>2</td>\n",
       "      <td>2</td>\n",
       "      <td>2</td>\n",
       "      <td>8</td>\n",
       "      <td>4</td>\n",
       "      <td>5</td>\n",
       "      <td>9</td>\n",
       "      <td>2</td>\n",
       "      <td>5</td>\n",
       "      <td>1</td>\n",
       "      <td>4</td>\n",
       "    </tr>\n",
       "    <tr>\n",
       "      <th>10010</th>\n",
       "      <td>2</td>\n",
       "      <td>10012</td>\n",
       "      <td>1</td>\n",
       "      <td>3</td>\n",
       "      <td>2</td>\n",
       "      <td>3</td>\n",
       "      <td>4</td>\n",
       "      <td>1</td>\n",
       "      <td>4</td>\n",
       "      <td>5</td>\n",
       "      <td>5</td>\n",
       "      <td>2</td>\n",
       "      <td>1</td>\n",
       "      <td>1</td>\n",
       "      <td>4</td>\n",
       "    </tr>\n",
       "  </tbody>\n",
       "</table>\n",
       "</div>"
      ],
      "text/plain": [
       "      Enterprise Flag Record Number MSA Code 2010 Census Tract - % Minority  \\\n",
       "10006               2         10008        1                              3   \n",
       "10007               2         10009        1                              2   \n",
       "10008               2         10010        0                              1   \n",
       "10009               2         10011        1                              1   \n",
       "10010               2         10012        1                              3   \n",
       "\n",
       "      Tract Income Ratio Borrower Income Ratio LTV at Origination  \\\n",
       "10006                  2                     3                  3   \n",
       "10007                  1                     3                  1   \n",
       "10008                  2                     3                  2   \n",
       "10009                  2                     2                  2   \n",
       "10010                  2                     3                  4   \n",
       "\n",
       "      Purpose of Loan Federal Guarantee Borrower Race or Natural Origin  \\\n",
       "10006               1                 4                               5   \n",
       "10007               8                 4                               7   \n",
       "10008               1                 4                               5   \n",
       "10009               8                 4                               5   \n",
       "10010               1                 4                               5   \n",
       "\n",
       "      Co Borrower Race or Natural Origin Borrower Gender Co Borrower Gender  \\\n",
       "10006                                  9               1                  5   \n",
       "10007                                  9               2                  5   \n",
       "10008                                  5               2                  1   \n",
       "10009                                  9               2                  5   \n",
       "10010                                  5               2                  1   \n",
       "\n",
       "      Number of Units Units - Affordability Category  \n",
       "10006               1                              4  \n",
       "10007               1                              4  \n",
       "10008               1                              4  \n",
       "10009               1                              4  \n",
       "10010               1                              4  "
      ]
     },
     "execution_count": 13,
     "metadata": {},
     "output_type": "execute_result"
    }
   ],
   "source": [
    "#renaming all the columns in df4\n",
    "df_4.columns = [\"Enterprise Flag\",\"Record Number\",\"MSA Code\",\"2010 Census Tract - % Minority\",\"Tract Income Ratio\",\"Borrower Income Ratio\",\"LTV at Origination\",\"Purpose of Loan\",\"Federal Guarantee\",\"Borrower Race or Natural Origin\",\"Co Borrower Race or Natural Origin\",\"Borrower Gender\",\"Co Borrower Gender\",\"Number of Units\",\"Units - Affordability Category\"]\n",
    "df_4.head()"
   ]
  },
  {
   "cell_type": "code",
   "execution_count": 14,
   "id": "e0f27a6d",
   "metadata": {
    "scrolled": true
   },
   "outputs": [
    {
     "data": {
      "text/html": [
       "<div>\n",
       "<style scoped>\n",
       "    .dataframe tbody tr th:only-of-type {\n",
       "        vertical-align: middle;\n",
       "    }\n",
       "\n",
       "    .dataframe tbody tr th {\n",
       "        vertical-align: top;\n",
       "    }\n",
       "\n",
       "    .dataframe thead th {\n",
       "        text-align: right;\n",
       "    }\n",
       "</style>\n",
       "<table border=\"1\" class=\"dataframe\">\n",
       "  <thead>\n",
       "    <tr style=\"text-align: right;\">\n",
       "      <th></th>\n",
       "      <th>Enterprise Flag</th>\n",
       "      <th>Record Number</th>\n",
       "      <th>MSA Code</th>\n",
       "      <th>2010 Census Tract - % Minority</th>\n",
       "      <th>Tract Income Ratio</th>\n",
       "      <th>Borrower Income Ratio</th>\n",
       "      <th>LTV at Origination</th>\n",
       "      <th>Purpose of Loan</th>\n",
       "      <th>Federal Guarantee</th>\n",
       "      <th>Borrower Race or Natural Origin</th>\n",
       "      <th>Co Borrower Race or Natural Origin</th>\n",
       "      <th>Borrower Gender</th>\n",
       "      <th>Co Borrower Gender</th>\n",
       "      <th>Number of Units</th>\n",
       "      <th>Units - Affordability Category</th>\n",
       "    </tr>\n",
       "  </thead>\n",
       "  <tbody>\n",
       "    <tr>\n",
       "      <th>1006</th>\n",
       "      <td>2</td>\n",
       "      <td>1008</td>\n",
       "      <td>1</td>\n",
       "      <td>3</td>\n",
       "      <td>2</td>\n",
       "      <td>3</td>\n",
       "      <td>2</td>\n",
       "      <td>8</td>\n",
       "      <td>4</td>\n",
       "      <td>3</td>\n",
       "      <td>9</td>\n",
       "      <td>2</td>\n",
       "      <td>5</td>\n",
       "      <td>1</td>\n",
       "      <td>4</td>\n",
       "    </tr>\n",
       "    <tr>\n",
       "      <th>1007</th>\n",
       "      <td>2</td>\n",
       "      <td>1009</td>\n",
       "      <td>0</td>\n",
       "      <td>1</td>\n",
       "      <td>2</td>\n",
       "      <td>3</td>\n",
       "      <td>3</td>\n",
       "      <td>1</td>\n",
       "      <td>4</td>\n",
       "      <td>5</td>\n",
       "      <td>9</td>\n",
       "      <td>1</td>\n",
       "      <td>5</td>\n",
       "      <td>1</td>\n",
       "      <td>4</td>\n",
       "    </tr>\n",
       "    <tr>\n",
       "      <th>1008</th>\n",
       "      <td>2</td>\n",
       "      <td>1010</td>\n",
       "      <td>1</td>\n",
       "      <td>1</td>\n",
       "      <td>3</td>\n",
       "      <td>3</td>\n",
       "      <td>4</td>\n",
       "      <td>1</td>\n",
       "      <td>4</td>\n",
       "      <td>5</td>\n",
       "      <td>9</td>\n",
       "      <td>1</td>\n",
       "      <td>5</td>\n",
       "      <td>1</td>\n",
       "      <td>4</td>\n",
       "    </tr>\n",
       "    <tr>\n",
       "      <th>1009</th>\n",
       "      <td>2</td>\n",
       "      <td>1011</td>\n",
       "      <td>1</td>\n",
       "      <td>3</td>\n",
       "      <td>1</td>\n",
       "      <td>3</td>\n",
       "      <td>2</td>\n",
       "      <td>8</td>\n",
       "      <td>4</td>\n",
       "      <td>7</td>\n",
       "      <td>9</td>\n",
       "      <td>1</td>\n",
       "      <td>5</td>\n",
       "      <td>1</td>\n",
       "      <td>4</td>\n",
       "    </tr>\n",
       "    <tr>\n",
       "      <th>1010</th>\n",
       "      <td>2</td>\n",
       "      <td>1012</td>\n",
       "      <td>1</td>\n",
       "      <td>2</td>\n",
       "      <td>3</td>\n",
       "      <td>3</td>\n",
       "      <td>2</td>\n",
       "      <td>8</td>\n",
       "      <td>4</td>\n",
       "      <td>5</td>\n",
       "      <td>5</td>\n",
       "      <td>1</td>\n",
       "      <td>2</td>\n",
       "      <td>1</td>\n",
       "      <td>4</td>\n",
       "    </tr>\n",
       "  </tbody>\n",
       "</table>\n",
       "</div>"
      ],
      "text/plain": [
       "     Enterprise Flag Record Number MSA Code 2010 Census Tract - % Minority  \\\n",
       "1006               2          1008        1                              3   \n",
       "1007               2          1009        0                              1   \n",
       "1008               2          1010        1                              1   \n",
       "1009               2          1011        1                              3   \n",
       "1010               2          1012        1                              2   \n",
       "\n",
       "     Tract Income Ratio Borrower Income Ratio LTV at Origination  \\\n",
       "1006                  2                     3                  2   \n",
       "1007                  2                     3                  3   \n",
       "1008                  3                     3                  4   \n",
       "1009                  1                     3                  2   \n",
       "1010                  3                     3                  2   \n",
       "\n",
       "     Purpose of Loan Federal Guarantee Borrower Race or Natural Origin  \\\n",
       "1006               8                 4                               3   \n",
       "1007               1                 4                               5   \n",
       "1008               1                 4                               5   \n",
       "1009               8                 4                               7   \n",
       "1010               8                 4                               5   \n",
       "\n",
       "     Co Borrower Race or Natural Origin Borrower Gender Co Borrower Gender  \\\n",
       "1006                                  9               2                  5   \n",
       "1007                                  9               1                  5   \n",
       "1008                                  9               1                  5   \n",
       "1009                                  9               1                  5   \n",
       "1010                                  5               1                  2   \n",
       "\n",
       "     Number of Units Units - Affordability Category  \n",
       "1006               1                              4  \n",
       "1007               1                              4  \n",
       "1008               1                              4  \n",
       "1009               1                              4  \n",
       "1010               1                              4  "
      ]
     },
     "execution_count": 14,
     "metadata": {},
     "output_type": "execute_result"
    }
   ],
   "source": [
    "#renaming all the columns in dataset df_3\n",
    "df_3.columns = [\"Enterprise Flag\",\"Record Number\",\"MSA Code\",\"2010 Census Tract - % Minority\",\"Tract Income Ratio\",\"Borrower Income Ratio\",\"LTV at Origination\",\"Purpose of Loan\",\"Federal Guarantee\",\"Borrower Race or Natural Origin\",\"Co Borrower Race or Natural Origin\",\"Borrower Gender\",\"Co Borrower Gender\",\"Number of Units\",\"Units - Affordability Category\"]\n",
    "df_3.head()"
   ]
  },
  {
   "cell_type": "code",
   "execution_count": 15,
   "id": "a7c66db9",
   "metadata": {
    "scrolled": false
   },
   "outputs": [
    {
     "name": "stdout",
     "output_type": "stream",
     "text": [
      "<class 'pandas.core.frame.DataFrame'>\n",
      "Int64Index: 899999 entries, 100006 to 1000004\n",
      "Data columns (total 15 columns):\n",
      " #   Column                              Non-Null Count   Dtype \n",
      "---  ------                              --------------   ----- \n",
      " 0   Enterprise Flag                     899999 non-null  object\n",
      " 1   Record Number                       899999 non-null  object\n",
      " 2   MSA Code                            899999 non-null  object\n",
      " 3   2010 Census Tract - % Minority      899999 non-null  object\n",
      " 4   Tract Income Ratio                  899999 non-null  object\n",
      " 5   Borrower Income Ratio               899999 non-null  object\n",
      " 6   LTV at Origination                  899999 non-null  object\n",
      " 7   Purpose of Loan                     899999 non-null  object\n",
      " 8   Federal Guarantee                   899999 non-null  object\n",
      " 9   Borrower Race or National Origin    899999 non-null  object\n",
      " 10  Co Borrower Race or Natural Origin  899999 non-null  object\n",
      " 11  Borrower Gender                     899999 non-null  object\n",
      " 12  Co Borrower Gender                  899999 non-null  object\n",
      " 13  Number of Units                     899999 non-null  object\n",
      " 14  Units - Affordability Category      899992 non-null  object\n",
      "dtypes: object(15)\n",
      "memory usage: 109.9+ MB\n"
     ]
    }
   ],
   "source": [
    "df_5.info()"
   ]
  },
  {
   "cell_type": "code",
   "execution_count": 16,
   "id": "1ed2288a",
   "metadata": {},
   "outputs": [],
   "source": [
    "#decided to use df_5 as our main dataset because it has the most datapoints"
   ]
  },
  {
   "cell_type": "code",
   "execution_count": 17,
   "id": "80ad64d3",
   "metadata": {},
   "outputs": [
    {
     "data": {
      "text/plain": [
       "2    899999\n",
       "Name: Enterprise Flag, dtype: int64"
      ]
     },
     "execution_count": 17,
     "metadata": {},
     "output_type": "execute_result"
    }
   ],
   "source": [
    "#determining the count of fannie or freddie in enterprise flag\n",
    "#1 = fannie\n",
    "#2 = freddie\n",
    "df_5[\"Enterprise Flag\"].value_counts()\n",
    "\n",
    "#final result yields it all comes from freddie"
   ]
  },
  {
   "cell_type": "code",
   "execution_count": 18,
   "id": "6b85796d",
   "metadata": {
    "scrolled": false
   },
   "outputs": [
    {
     "data": {
      "text/plain": [
       "1    816154\n",
       "0     83841\n",
       "2         4\n",
       "Name: MSA Code, dtype: int64"
      ]
     },
     "execution_count": 18,
     "metadata": {},
     "output_type": "execute_result"
    }
   ],
   "source": [
    "#determining the metropolitan statistical area code, metro or not\n",
    "#1 = metro area\n",
    "#0 = non metro area\n",
    "df_5[\"MSA Code\"].value_counts()"
   ]
  },
  {
   "cell_type": "code",
   "execution_count": 19,
   "id": "9dae69d1",
   "metadata": {
    "scrolled": false
   },
   "outputs": [
    {
     "data": {
      "text/plain": [
       "<AxesSubplot:>"
      ]
     },
     "execution_count": 19,
     "metadata": {},
     "output_type": "execute_result"
    },
    {
     "data": {
      "image/png": "[encoded data removed]",
      "text/plain": [
       "<Figure size 432x288 with 1 Axes>"
      ]
     },
     "metadata": {
      "needs_background": "light"
     },
     "output_type": "display_data"
    }
   ],
   "source": [
    "#plotting the metropolitan statistical area code for reference\n",
    "df_5[\"MSA Code\"].value_counts().plot(kind='bar')"
   ]
  },
  {
   "cell_type": "code",
   "execution_count": 20,
   "id": "2e040816",
   "metadata": {
    "scrolled": true
   },
   "outputs": [
    {
     "data": {
      "text/plain": [
       "2    372784\n",
       "3    304030\n",
       "1    222823\n",
       "9       362\n",
       "Name: 2010 Census Tract - % Minority, dtype: int64"
      ]
     },
     "execution_count": 20,
     "metadata": {},
     "output_type": "execute_result"
    }
   ],
   "source": [
    "#Percent Minority\n",
    "#1 = >=0, <10%\n",
    "#2 = >=10%, <30%\n",
    "#3 = >= 30%, <100%\n",
    "#9 = Missing\n",
    "\n",
    "df_5[\"2010 Census Tract - % Minority\"].value_counts()"
   ]
  },
  {
   "cell_type": "code",
   "execution_count": 21,
   "id": "0ad92fa5",
   "metadata": {},
   "outputs": [
    {
     "data": {
      "text/plain": [
       "<AxesSubplot:>"
      ]
     },
     "execution_count": 21,
     "metadata": {},
     "output_type": "execute_result"
    },
    {
     "data": {
      "image/png": "[encoded data removed]",
      "text/plain": [
       "<Figure size 432x288 with 1 Axes>"
      ]
     },
     "metadata": {
      "needs_background": "light"
     },
     "output_type": "display_data"
    }
   ],
   "source": [
    "#plotting the percent minority \n",
    "df_5[\"2010 Census Tract - % Minority\"].value_counts().plot(kind='bar')"
   ]
  },
  {
   "cell_type": "code",
   "execution_count": 22,
   "id": "515b79f0",
   "metadata": {},
   "outputs": [
    {
     "data": {
      "text/plain": [
       "2    395621\n",
       "3    383408\n",
       "1    120302\n",
       "9       668\n",
       "Name: Tract Income Ratio, dtype: int64"
      ]
     },
     "execution_count": 22,
     "metadata": {},
     "output_type": "execute_result"
    }
   ],
   "source": [
    "#Tract Income Ratio\n",
    "#1 = >0, <=80%\n",
    "#2 = >80%, <=120%\n",
    "#3 = >120%\n",
    "#9 = Missing\n",
    "\n",
    "df_5[\"Tract Income Ratio\"].value_counts()"
   ]
  },
  {
   "cell_type": "code",
   "execution_count": 23,
   "id": "61a4875c",
   "metadata": {
    "scrolled": true
   },
   "outputs": [
    {
     "data": {
      "text/plain": [
       "3    682147\n",
       "2    164318\n",
       "1     53508\n",
       "9        26\n",
       "Name: Borrower Income Ratio, dtype: int64"
      ]
     },
     "execution_count": 23,
     "metadata": {},
     "output_type": "execute_result"
    }
   ],
   "source": [
    "#Borrower Income Ratio\n",
    "#1 = >=0, <=50%\n",
    "#2 = >50%, <=80%\n",
    "#3 = >80%\n",
    "#9 = Not Applicable\n",
    "\n",
    "df_5[\"Borrower Income Ratio\"].value_counts()"
   ]
  },
  {
   "cell_type": "code",
   "execution_count": 24,
   "id": "3cff26f3",
   "metadata": {},
   "outputs": [
    {
     "data": {
      "text/plain": [
       "<AxesSubplot:>"
      ]
     },
     "execution_count": 24,
     "metadata": {},
     "output_type": "execute_result"
    },
    {
     "data": {
      "image/png": "[encoded data removed]",
      "text/plain": [
       "<Figure size 432x288 with 1 Axes>"
      ]
     },
     "metadata": {
      "needs_background": "light"
     },
     "output_type": "display_data"
    }
   ],
   "source": [
    "#plotting borrower income ratio\n",
    "df_5[\"Borrower Income Ratio\"].value_counts().plot(kind='bar')"
   ]
  },
  {
   "cell_type": "code",
   "execution_count": 25,
   "id": "671694bd",
   "metadata": {},
   "outputs": [
    {
     "data": {
      "text/plain": [
       "2    436639\n",
       "1    155662\n",
       "4    140456\n",
       "3    122604\n",
       "5     44636\n",
       "8         2\n",
       "Name: LTV at Origination, dtype: int64"
      ]
     },
     "execution_count": 25,
     "metadata": {},
     "output_type": "execute_result"
    }
   ],
   "source": [
    "#Loan to Value Ratio\n",
    "#1 = >0, <=60%\n",
    "#2 = >60%, <=80%\n",
    "#3 = >80%, <=90%\n",
    "#4 = >90%, <=95%\n",
    "#5 = >95%\n",
    "#9 = Missing\n",
    "\n",
    "df_5[\"LTV at Origination\"].value_counts()"
   ]
  },
  {
   "cell_type": "code",
   "execution_count": 26,
   "id": "f6044cd2",
   "metadata": {},
   "outputs": [
    {
     "data": {
      "text/plain": [
       "<AxesSubplot:>"
      ]
     },
     "execution_count": 26,
     "metadata": {},
     "output_type": "execute_result"
    },
    {
     "data": {
      "image/png": "[encoded data removed]",
      "text/plain": [
       "<Figure size 432x288 with 1 Axes>"
      ]
     },
     "metadata": {
      "needs_background": "light"
     },
     "output_type": "display_data"
    }
   ],
   "source": [
    "#plotting LTV at Origination\n",
    "df_5[\"LTV at Origination\"].value_counts().plot(kind='bar')"
   ]
  },
  {
   "cell_type": "code",
   "execution_count": 27,
   "id": "532237f4",
   "metadata": {},
   "outputs": [
    {
     "data": {
      "text/plain": [
       "4    899519\n",
       "2       304\n",
       "1       169\n",
       "5         7\n",
       "Name: Federal Guarantee, dtype: int64"
      ]
     },
     "execution_count": 27,
     "metadata": {},
     "output_type": "execute_result"
    }
   ],
   "source": [
    "#Federal Guarantee\n",
    "#1 = FHA/VA\n",
    "#2 = Rural Housing Services (RHS) - guaranteed rural housing loan\n",
    "#3 = Home Equity Conversion Mortgage (HECM)\n",
    "#4 = No federal guarantee (conventional)\n",
    "#5 = Title 1 - FHA\n",
    "\n",
    "df_5[\"Federal Guarantee\"].value_counts()"
   ]
  },
  {
   "cell_type": "code",
   "execution_count": 28,
   "id": "f644ad73",
   "metadata": {
    "scrolled": true
   },
   "outputs": [
    {
     "data": {
      "text/plain": [
       "5    610871\n",
       "9    120312\n",
       "7     69787\n",
       "2     51868\n",
       "3     27509\n",
       "6     17264\n",
       "1      1400\n",
       "4       988\n",
       "Name: Borrower Race or National Origin, dtype: int64"
      ]
     },
     "execution_count": 28,
     "metadata": {},
     "output_type": "execute_result"
    }
   ],
   "source": [
    "#Borrower race or national origin\n",
    "#1 = American Indian or Alaska Native\n",
    "#2 = Asian\n",
    "#3 = Black or African American\n",
    "#4 = Native Hawaiian or Other Pacific Islander\n",
    "#5 = White\n",
    "#6 = Two or more races\n",
    "#7 = Hispanic or Latino\n",
    "#9 = Not available / not applicable\n",
    "\n",
    "df_5[\"Borrower Race or National Origin\"].value_counts()"
   ]
  },
  {
   "cell_type": "code",
   "execution_count": 29,
   "id": "3bc1ff98",
   "metadata": {},
   "outputs": [
    {
     "data": {
      "text/plain": [
       "<AxesSubplot:>"
      ]
     },
     "execution_count": 29,
     "metadata": {},
     "output_type": "execute_result"
    },
    {
     "data": {
      "image/png": "[encoded data removed]",
      "text/plain": [
       "<Figure size 432x288 with 1 Axes>"
      ]
     },
     "metadata": {
      "needs_background": "light"
     },
     "output_type": "display_data"
    }
   ],
   "source": [
    "#plotting borrower race or national origin\n",
    "df_5[\"Borrower Race or National Origin\"].value_counts().plot(kind='bar')"
   ]
  },
  {
   "cell_type": "code",
   "execution_count": 30,
   "id": "67af01ee",
   "metadata": {
    "scrolled": true
   },
   "outputs": [
    {
     "data": {
      "text/plain": [
       "1    550517\n",
       "2    275744\n",
       "3     73233\n",
       "4       491\n",
       "9        11\n",
       "5         3\n",
       "Name: Borrower Gender, dtype: int64"
      ]
     },
     "execution_count": 30,
     "metadata": {},
     "output_type": "execute_result"
    }
   ],
   "source": [
    "#Borrower gender\n",
    "#1 = Male\n",
    "#2 = Female\n",
    "#3 = info not provided\n",
    "#4 = not applicable\n",
    "#9 = Missing\n",
    "\n",
    "df_5[\"Borrower Gender\"].value_counts()"
   ]
  },
  {
   "cell_type": "code",
   "execution_count": 31,
   "id": "b0c73143",
   "metadata": {},
   "outputs": [
    {
     "data": {
      "text/plain": [
       "<AxesSubplot:>"
      ]
     },
     "execution_count": 31,
     "metadata": {},
     "output_type": "execute_result"
    },
    {
     "data": {
      "image/png": "[encoded data removed]",
      "text/plain": [
       "<Figure size 432x288 with 1 Axes>"
      ]
     },
     "metadata": {
      "needs_background": "light"
     },
     "output_type": "display_data"
    }
   ],
   "source": [
    "#plotting borrower gender\n",
    "df_5[\"Borrower Gender\"].value_counts().plot(kind='bar')"
   ]
  },
  {
   "cell_type": "code",
   "execution_count": 32,
   "id": "3d43755e",
   "metadata": {},
   "outputs": [
    {
     "data": {
      "text/plain": [
       "4    811210\n",
       "3     36595\n",
       "1     35251\n",
       "2     16910\n",
       "0        26\n",
       "Name: Units - Affordability Category, dtype: int64"
      ]
     },
     "execution_count": 32,
     "metadata": {},
     "output_type": "execute_result"
    }
   ],
   "source": [
    "#Affordibility category\n",
    "#1 = Low-income family (but not very low income) in a low income area\n",
    "#2 = Very low-income family in a low-income area\n",
    "#3 = Very low-income family not in a low-income area\n",
    "#4 = other\n",
    "#9 = not available\n",
    "\n",
    "df_5[\"Units - Affordability Category\"].value_counts()"
   ]
  },
  {
   "cell_type": "code",
   "execution_count": 33,
   "id": "57cfe4de",
   "metadata": {
    "scrolled": true
   },
   "outputs": [
    {
     "data": {
      "text/plain": [
       "<AxesSubplot:>"
      ]
     },
     "execution_count": 33,
     "metadata": {},
     "output_type": "execute_result"
    },
    {
     "data": {
      "image/png": "[encoded data removed]",
      "text/plain": [
       "<Figure size 432x288 with 1 Axes>"
      ]
     },
     "metadata": {
      "needs_background": "light"
     },
     "output_type": "display_data"
    }
   ],
   "source": [
    "#plotting affordibility category\n",
    "df_5[\"Units - Affordability Category\"].value_counts().plot(kind='bar')"
   ]
  },
  {
   "cell_type": "code",
   "execution_count": 34,
   "id": "f22aa073",
   "metadata": {},
   "outputs": [],
   "source": [
    "#downlading dataframe to csv for tableau\n",
    "df_5.to_csv(\"Fannie_Freddie_Data.csv\")"
   ]
  },
  {
   "cell_type": "code",
   "execution_count": 35,
   "id": "6e08cba9",
   "metadata": {},
   "outputs": [],
   "source": [
    "import seaborn as sns\n",
    "import pandas as pd"
   ]
  },
  {
   "cell_type": "code",
   "execution_count": 42,
   "id": "31d084b6",
   "metadata": {},
   "outputs": [],
   "source": [
    "#replacing values in dataset to their real names for borrower race or national origin\n",
    "df_5['Borrower Race or National Origin'].mask(df_5['Borrower Race or National Origin'] == \"2\",\"Asian\", inplace=True)\n",
    "df_5['Borrower Race or National Origin'].mask(df_5['Borrower Race or National Origin'] == \"3\",\"Black or African American\", inplace=True)\n",
    "df_5['Borrower Race or National Origin'].mask(df_5['Borrower Race or National Origin'] == \"4\",\"Native Hawaiian/Pacific Islander\", inplace=True)\n",
    "df_5['Borrower Race or National Origin'].mask(df_5['Borrower Race or National Origin'] == \"5\",\"White\", inplace=True)\n",
    "df_5['Borrower Race or National Origin'].mask(df_5['Borrower Race or National Origin'] == \"6\",\"Two or More\", inplace=True)\n",
    "df_5['Borrower Race or National Origin'].mask(df_5['Borrower Race or National Origin'] == \"7\",\"Hispanic or Latino\", inplace=True)\n",
    "df_5['Borrower Race or National Origin'].mask(df_5['Borrower Race or National Origin'] == \"9\",\"Not Available\", inplace=True)\n",
    "df_5['Borrower Race or National Origin'].mask(df_5['Borrower Race or National Origin'] == \"2\",\"Asian\", inplace=True)\n",
    "df_5['Borrower Race or National Origin'].mask(df_5['Borrower Race or National Origin'] == \"1\",\"American Indian or Alaska Native\", inplace=True)"
   ]
  },
  {
   "cell_type": "code",
   "execution_count": 57,
   "id": "a5393325",
   "metadata": {},
   "outputs": [
    {
     "data": {
      "text/plain": [
       "Text(0, 0.5, 'No. Applications')"
      ]
     },
     "execution_count": 57,
     "metadata": {},
     "output_type": "execute_result"
    },
    {
     "data": {
      "image/png": "[encoded data removed]",
      "text/plain": [
       "<Figure size 432x288 with 1 Axes>"
      ]
     },
     "metadata": {
      "needs_background": "light"
     },
     "output_type": "display_data"
    }
   ],
   "source": [
    "#plotting Borrower Race \n",
    "df_5[\"Borrower Race or National Origin\"].value_counts().plot(kind='bar')\n",
    "plt.title(\"Borrower Race or National Origin\")\n",
    "plt.ylabel(\"No. Applications\")"
   ]
  },
  {
   "cell_type": "code",
   "execution_count": 50,
   "id": "64df0a75",
   "metadata": {},
   "outputs": [],
   "source": [
    "#changing values from numbers to actual meaning in LTV at Origination\n",
    "df_5['LTV at Origination'].mask(df_5['LTV at Origination'] == \"1\",\">0, <=60%\", inplace=True)\n",
    "df_5['LTV at Origination'].mask(df_5['LTV at Origination'] == \"2\",\">60, <=80%\", inplace=True)\n",
    "df_5['LTV at Origination'].mask(df_5['LTV at Origination'] == \"3\",\">80, <=90%\", inplace=True)\n",
    "df_5['LTV at Origination'].mask(df_5['LTV at Origination'] == \"4\",\">90, <=95%\", inplace=True)\n",
    "df_5['LTV at Origination'].mask(df_5['LTV at Origination'] == \"5\",\">95%\", inplace=True)\n",
    "df_5['LTV at Origination'].mask(df_5['LTV at Origination'] == \"8\",\"Missing\", inplace=True)"
   ]
  },
  {
   "cell_type": "code",
   "execution_count": 54,
   "id": "a955df48",
   "metadata": {
    "scrolled": true
   },
   "outputs": [
    {
     "data": {
      "text/plain": [
       "Text(0.5, 0, 'LTV % Ranges')"
      ]
     },
     "execution_count": 54,
     "metadata": {},
     "output_type": "execute_result"
    },
    {
     "data": {
      "image/png": "[encoded data removed]",
      "text/plain": [
       "<Figure size 432x288 with 1 Axes>"
      ]
     },
     "metadata": {
      "needs_background": "light"
     },
     "output_type": "display_data"
    }
   ],
   "source": [
    "#plotting LTV at Origination\n",
    "df_5[\"LTV at Origination\"].value_counts().plot(kind='bar')\n",
    "plt.title(\"LTV at Origination\")\n",
    "plt.ylabel(\"No. Applications\")\n",
    "plt.xlabel(\"LTV % Ranges\")"
   ]
  },
  {
   "cell_type": "code",
   "execution_count": 55,
   "id": "5f75d4b2",
   "metadata": {},
   "outputs": [],
   "source": [
    "#updating borrower income ratio dataframe \n",
    "df_5['Borrower Income Ratio'].mask(df_5['Borrower Income Ratio'] == \"1\",\">0, <=50%\", inplace=True)\n",
    "df_5['Borrower Income Ratio'].mask(df_5['Borrower Income Ratio'] == \"2\",\">50, <=80%\", inplace=True)\n",
    "df_5['Borrower Income Ratio'].mask(df_5['Borrower Income Ratio'] == \"3\",\">80\", inplace=True)\n",
    "df_5['Borrower Income Ratio'].mask(df_5['Borrower Income Ratio'] == \"9\",\"Not Applicable\", inplace=True)"
   ]
  },
  {
   "cell_type": "code",
   "execution_count": 56,
   "id": "51c500d4",
   "metadata": {},
   "outputs": [
    {
     "data": {
      "text/plain": [
       "Text(0.5, 0, 'Income Ratio % Ranges')"
      ]
     },
     "execution_count": 56,
     "metadata": {},
     "output_type": "execute_result"
    },
    {
     "data": {
      "image/png": "[encoded data removed]",
      "text/plain": [
       "<Figure size 432x288 with 1 Axes>"
      ]
     },
     "metadata": {
      "needs_background": "light"
     },
     "output_type": "display_data"
    }
   ],
   "source": [
    "#plotting borrower income ratio\n",
    "df_5[\"Borrower Income Ratio\"].value_counts().plot(kind='bar')\n",
    "plt.title(\"Borrower Income Ratio\")\n",
    "plt.ylabel(\"No. Applications\")\n",
    "plt.xlabel(\"Income Ratio % Ranges\")"
   ]
  },
  {
   "cell_type": "code",
   "execution_count": null,
   "id": "2e16ab31",
   "metadata": {},
   "outputs": [],
   "source": []
  }
 ],
 "metadata": {
  "kernelspec": {
   "display_name": "Python 3",
   "language": "python",
   "name": "python3"
  },
  "language_info": {
   "codemirror_mode": {
    "name": "ipython",
    "version": 3
   },
   "file_extension": ".py",
   "mimetype": "text/x-python",
   "name": "python",
   "nbconvert_exporter": "python",
   "pygments_lexer": "ipython3",
   "version": "3.8.10"
  }
 },
 "nbformat": 4,
 "nbformat_minor": 5
}
