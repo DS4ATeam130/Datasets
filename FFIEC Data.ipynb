{
 "cells": [
  {
   "cell_type": "code",
   "execution_count": 1,
   "id": "c41e9707",
   "metadata": {},
   "outputs": [],
   "source": [
    "%matplotlib inline\n",
    "\n",
    "import pandas as pd\n",
    "from matplotlib import pyplot as plt\n",
    "\n",
    "# increase the size and quality of any plots we produce\n",
    "import matplotlib as mpl"
   ]
  },
  {
   "cell_type": "code",
   "execution_count": 2,
   "id": "2c68d09b",
   "metadata": {},
   "outputs": [
    {
     "name": "stderr",
     "output_type": "stream",
     "text": [
      "/Users/julianakadiasi/anaconda3/lib/python3.8/site-packages/IPython/core/interactiveshell.py:3165: DtypeWarning: Columns (22,23,24,26,27,28,29,30,31,32,33,38,43,44) have mixed types.Specify dtype option on import or set low_memory=False.\n",
      "  has_raised = await self.run_ast_nodes(code_ast.body, cell_name,\n"
     ]
    },
    {
     "data": {
      "text/html": [
       "<div>\n",
       "<style scoped>\n",
       "    .dataframe tbody tr th:only-of-type {\n",
       "        vertical-align: middle;\n",
       "    }\n",
       "\n",
       "    .dataframe tbody tr th {\n",
       "        vertical-align: top;\n",
       "    }\n",
       "\n",
       "    .dataframe thead th {\n",
       "        text-align: right;\n",
       "    }\n",
       "</style>\n",
       "<table border=\"1\" class=\"dataframe\">\n",
       "  <thead>\n",
       "    <tr style=\"text-align: right;\">\n",
       "      <th></th>\n",
       "      <th>activity_year</th>\n",
       "      <th>lei</th>\n",
       "      <th>derived_msa-md</th>\n",
       "      <th>state_code</th>\n",
       "      <th>county_code</th>\n",
       "      <th>census_tract</th>\n",
       "      <th>conforming_loan_limit</th>\n",
       "      <th>derived_loan_product_type</th>\n",
       "      <th>derived_dwelling_category</th>\n",
       "      <th>derived_ethnicity</th>\n",
       "      <th>...</th>\n",
       "      <th>denial_reason-2</th>\n",
       "      <th>denial_reason-3</th>\n",
       "      <th>denial_reason-4</th>\n",
       "      <th>tract_population</th>\n",
       "      <th>tract_minority_population_percent</th>\n",
       "      <th>ffiec_msa_md_median_family_income</th>\n",
       "      <th>tract_to_msa_income_percentage</th>\n",
       "      <th>tract_owner_occupied_units</th>\n",
       "      <th>tract_one_to_four_family_homes</th>\n",
       "      <th>tract_median_age_of_housing_units</th>\n",
       "    </tr>\n",
       "  </thead>\n",
       "  <tbody>\n",
       "    <tr>\n",
       "      <th>0</th>\n",
       "      <td>2020</td>\n",
       "      <td>7DMUJTL9FFTVIAG9H788</td>\n",
       "      <td>99999</td>\n",
       "      <td>IL</td>\n",
       "      <td>17095.0</td>\n",
       "      <td>1.709500e+10</td>\n",
       "      <td>C</td>\n",
       "      <td>Conventional:First Lien</td>\n",
       "      <td>Single Family (1-4 Units):Site-Built</td>\n",
       "      <td>Not Hispanic or Latino</td>\n",
       "      <td>...</td>\n",
       "      <td>NaN</td>\n",
       "      <td>NaN</td>\n",
       "      <td>NaN</td>\n",
       "      <td>2719</td>\n",
       "      <td>5.00</td>\n",
       "      <td>65800</td>\n",
       "      <td>109</td>\n",
       "      <td>1097</td>\n",
       "      <td>1674</td>\n",
       "      <td>40</td>\n",
       "    </tr>\n",
       "    <tr>\n",
       "      <th>1</th>\n",
       "      <td>2020</td>\n",
       "      <td>7DMUJTL9FFTVIAG9H788</td>\n",
       "      <td>37900</td>\n",
       "      <td>IL</td>\n",
       "      <td>17143.0</td>\n",
       "      <td>1.714300e+10</td>\n",
       "      <td>C</td>\n",
       "      <td>FHA:First Lien</td>\n",
       "      <td>Single Family (1-4 Units):Site-Built</td>\n",
       "      <td>Ethnicity Not Available</td>\n",
       "      <td>...</td>\n",
       "      <td>NaN</td>\n",
       "      <td>NaN</td>\n",
       "      <td>NaN</td>\n",
       "      <td>1998</td>\n",
       "      <td>48.60</td>\n",
       "      <td>75400</td>\n",
       "      <td>43</td>\n",
       "      <td>332</td>\n",
       "      <td>787</td>\n",
       "      <td>76</td>\n",
       "    </tr>\n",
       "    <tr>\n",
       "      <th>2</th>\n",
       "      <td>2020</td>\n",
       "      <td>7DMUJTL9FFTVIAG9H788</td>\n",
       "      <td>16580</td>\n",
       "      <td>IL</td>\n",
       "      <td>17019.0</td>\n",
       "      <td>1.701900e+10</td>\n",
       "      <td>C</td>\n",
       "      <td>Conventional:First Lien</td>\n",
       "      <td>Single Family (1-4 Units):Site-Built</td>\n",
       "      <td>Not Hispanic or Latino</td>\n",
       "      <td>...</td>\n",
       "      <td>NaN</td>\n",
       "      <td>NaN</td>\n",
       "      <td>NaN</td>\n",
       "      <td>3962</td>\n",
       "      <td>20.92</td>\n",
       "      <td>80200</td>\n",
       "      <td>143</td>\n",
       "      <td>1307</td>\n",
       "      <td>1548</td>\n",
       "      <td>27</td>\n",
       "    </tr>\n",
       "    <tr>\n",
       "      <th>3</th>\n",
       "      <td>2020</td>\n",
       "      <td>7DMUJTL9FFTVIAG9H788</td>\n",
       "      <td>37900</td>\n",
       "      <td>IL</td>\n",
       "      <td>17143.0</td>\n",
       "      <td>1.714300e+10</td>\n",
       "      <td>C</td>\n",
       "      <td>Conventional:First Lien</td>\n",
       "      <td>Single Family (1-4 Units):Site-Built</td>\n",
       "      <td>Not Hispanic or Latino</td>\n",
       "      <td>...</td>\n",
       "      <td>9.0</td>\n",
       "      <td>NaN</td>\n",
       "      <td>NaN</td>\n",
       "      <td>5759</td>\n",
       "      <td>29.90</td>\n",
       "      <td>75400</td>\n",
       "      <td>122</td>\n",
       "      <td>1522</td>\n",
       "      <td>1584</td>\n",
       "      <td>38</td>\n",
       "    </tr>\n",
       "    <tr>\n",
       "      <th>4</th>\n",
       "      <td>2020</td>\n",
       "      <td>7DMUJTL9FFTVIAG9H788</td>\n",
       "      <td>41180</td>\n",
       "      <td>IL</td>\n",
       "      <td>17163.0</td>\n",
       "      <td>1.716350e+10</td>\n",
       "      <td>C</td>\n",
       "      <td>Conventional:First Lien</td>\n",
       "      <td>Single Family (1-4 Units):Site-Built</td>\n",
       "      <td>Not Hispanic or Latino</td>\n",
       "      <td>...</td>\n",
       "      <td>NaN</td>\n",
       "      <td>NaN</td>\n",
       "      <td>NaN</td>\n",
       "      <td>10256</td>\n",
       "      <td>27.28</td>\n",
       "      <td>82600</td>\n",
       "      <td>118</td>\n",
       "      <td>1927</td>\n",
       "      <td>3524</td>\n",
       "      <td>14</td>\n",
       "    </tr>\n",
       "  </tbody>\n",
       "</table>\n",
       "<p>5 rows × 99 columns</p>\n",
       "</div>"
      ],
      "text/plain": [
       "   activity_year                   lei  derived_msa-md state_code  \\\n",
       "0           2020  7DMUJTL9FFTVIAG9H788           99999         IL   \n",
       "1           2020  7DMUJTL9FFTVIAG9H788           37900         IL   \n",
       "2           2020  7DMUJTL9FFTVIAG9H788           16580         IL   \n",
       "3           2020  7DMUJTL9FFTVIAG9H788           37900         IL   \n",
       "4           2020  7DMUJTL9FFTVIAG9H788           41180         IL   \n",
       "\n",
       "   county_code  census_tract conforming_loan_limit derived_loan_product_type  \\\n",
       "0      17095.0  1.709500e+10                     C   Conventional:First Lien   \n",
       "1      17143.0  1.714300e+10                     C            FHA:First Lien   \n",
       "2      17019.0  1.701900e+10                     C   Conventional:First Lien   \n",
       "3      17143.0  1.714300e+10                     C   Conventional:First Lien   \n",
       "4      17163.0  1.716350e+10                     C   Conventional:First Lien   \n",
       "\n",
       "              derived_dwelling_category        derived_ethnicity  ...  \\\n",
       "0  Single Family (1-4 Units):Site-Built   Not Hispanic or Latino  ...   \n",
       "1  Single Family (1-4 Units):Site-Built  Ethnicity Not Available  ...   \n",
       "2  Single Family (1-4 Units):Site-Built   Not Hispanic or Latino  ...   \n",
       "3  Single Family (1-4 Units):Site-Built   Not Hispanic or Latino  ...   \n",
       "4  Single Family (1-4 Units):Site-Built   Not Hispanic or Latino  ...   \n",
       "\n",
       "  denial_reason-2 denial_reason-3  denial_reason-4  tract_population  \\\n",
       "0             NaN             NaN              NaN              2719   \n",
       "1             NaN             NaN              NaN              1998   \n",
       "2             NaN             NaN              NaN              3962   \n",
       "3             9.0             NaN              NaN              5759   \n",
       "4             NaN             NaN              NaN             10256   \n",
       "\n",
       "   tract_minority_population_percent  ffiec_msa_md_median_family_income  \\\n",
       "0                               5.00                              65800   \n",
       "1                              48.60                              75400   \n",
       "2                              20.92                              80200   \n",
       "3                              29.90                              75400   \n",
       "4                              27.28                              82600   \n",
       "\n",
       "   tract_to_msa_income_percentage  tract_owner_occupied_units  \\\n",
       "0                             109                        1097   \n",
       "1                              43                         332   \n",
       "2                             143                        1307   \n",
       "3                             122                        1522   \n",
       "4                             118                        1927   \n",
       "\n",
       "   tract_one_to_four_family_homes  tract_median_age_of_housing_units  \n",
       "0                            1674                                 40  \n",
       "1                             787                                 76  \n",
       "2                            1548                                 27  \n",
       "3                            1584                                 38  \n",
       "4                            3524                                 14  \n",
       "\n",
       "[5 rows x 99 columns]"
      ]
     },
     "execution_count": 2,
     "metadata": {},
     "output_type": "execute_result"
    }
   ],
   "source": [
    "#read text file through same directory with pandas\n",
    "\n",
    "df = pd.read_csv(\"csv.csv\")\n",
    "df.head()"
   ]
  },
  {
   "cell_type": "code",
   "execution_count": 3,
   "id": "d860b335",
   "metadata": {
    "scrolled": true
   },
   "outputs": [
    {
     "name": "stdout",
     "output_type": "stream",
     "text": [
      "<class 'pandas.core.frame.DataFrame'>\n",
      "RangeIndex: 864270 entries, 0 to 864269\n",
      "Data columns (total 99 columns):\n",
      " #   Column                                    Non-Null Count   Dtype  \n",
      "---  ------                                    --------------   -----  \n",
      " 0   activity_year                             864270 non-null  int64  \n",
      " 1   lei                                       864270 non-null  object \n",
      " 2   derived_msa-md                            864270 non-null  int64  \n",
      " 3   state_code                                864270 non-null  object \n",
      " 4   county_code                               861036 non-null  float64\n",
      " 5   census_tract                              860803 non-null  float64\n",
      " 6   conforming_loan_limit                     860791 non-null  object \n",
      " 7   derived_loan_product_type                 864270 non-null  object \n",
      " 8   derived_dwelling_category                 864270 non-null  object \n",
      " 9   derived_ethnicity                         864270 non-null  object \n",
      " 10  derived_race                              864270 non-null  object \n",
      " 11  derived_sex                               864270 non-null  object \n",
      " 12  action_taken                              864270 non-null  int64  \n",
      " 13  purchaser_type                            864270 non-null  int64  \n",
      " 14  preapproval                               864270 non-null  int64  \n",
      " 15  loan_type                                 864270 non-null  int64  \n",
      " 16  loan_purpose                              864270 non-null  int64  \n",
      " 17  lien_status                               864270 non-null  int64  \n",
      " 18  reverse_mortgage                          864270 non-null  int64  \n",
      " 19  open-end_line_of_credit                   864270 non-null  int64  \n",
      " 20  business_or_commercial_purpose            864270 non-null  int64  \n",
      " 21  loan_amount                               864270 non-null  float64\n",
      " 22  loan_to_value_ratio                       584195 non-null  object \n",
      " 23  interest_rate                             630643 non-null  object \n",
      " 24  rate_spread                               508434 non-null  object \n",
      " 25  hoepa_status                              864270 non-null  int64  \n",
      " 26  total_loan_costs                          559672 non-null  object \n",
      " 27  total_points_and_fees                     43771 non-null   object \n",
      " 28  origination_charges                       560861 non-null  object \n",
      " 29  discount_points                           170136 non-null  object \n",
      " 30  lender_credits                            276323 non-null  object \n",
      " 31  loan_term                                 859264 non-null  object \n",
      " 32  prepayment_penalty_term                   53906 non-null   object \n",
      " 33  intro_rate_period                         104297 non-null  object \n",
      " 34  negative_amortization                     864270 non-null  int64  \n",
      " 35  interest_only_payment                     864270 non-null  int64  \n",
      " 36  balloon_payment                           864270 non-null  int64  \n",
      " 37  other_nonamortizing_features              864270 non-null  int64  \n",
      " 38  property_value                            690207 non-null  object \n",
      " 39  construction_method                       864270 non-null  int64  \n",
      " 40  occupancy_type                            864270 non-null  int64  \n",
      " 41  manufactured_home_secured_property_type   864270 non-null  int64  \n",
      " 42  manufactured_home_land_property_interest  864270 non-null  int64  \n",
      " 43  total_units                               864270 non-null  object \n",
      " 44  multifamily_affordable_units              43478 non-null   object \n",
      " 45  income                                    746974 non-null  float64\n",
      " 46  debt_to_income_ratio                      576607 non-null  object \n",
      " 47  applicant_credit_score_type               864270 non-null  int64  \n",
      " 48  co-applicant_credit_score_type            864270 non-null  int64  \n",
      " 49  applicant_ethnicity-1                     864105 non-null  float64\n",
      " 50  applicant_ethnicity-2                     42759 non-null   float64\n",
      " 51  applicant_ethnicity-3                     1024 non-null    float64\n",
      " 52  applicant_ethnicity-4                     25 non-null      float64\n",
      " 53  applicant_ethnicity-5                     6 non-null       float64\n",
      " 54  co-applicant_ethnicity-1                  864208 non-null  float64\n",
      " 55  co-applicant_ethnicity-2                  13714 non-null   float64\n",
      " 56  co-applicant_ethnicity-3                  322 non-null     float64\n",
      " 57  co-applicant_ethnicity-4                  3 non-null       float64\n",
      " 58  co-applicant_ethnicity-5                  0 non-null       float64\n",
      " 59  applicant_ethnicity_observed              864270 non-null  int64  \n",
      " 60  co-applicant_ethnicity_observed           864270 non-null  int64  \n",
      " 61  applicant_race-1                          864226 non-null  float64\n",
      " 62  applicant_race-2                          37732 non-null   float64\n",
      " 63  applicant_race-3                          2249 non-null    float64\n",
      " 64  applicant_race-4                          137 non-null     float64\n",
      " 65  applicant_race-5                          37 non-null      float64\n",
      " 66  co-applicant_race-1                       864251 non-null  float64\n",
      " 67  co-applicant_race-2                       14166 non-null   float64\n",
      " 68  co-applicant_race-3                       782 non-null     float64\n",
      " 69  co-applicant_race-4                       39 non-null      float64\n",
      " 70  co-applicant_race-5                       10 non-null      float64\n",
      " 71  applicant_race_observed                   864270 non-null  int64  \n",
      " 72  co-applicant_race_observed                864270 non-null  int64  \n",
      " 73  applicant_sex                             864270 non-null  int64  \n",
      " 74  co-applicant_sex                          864270 non-null  int64  \n",
      " 75  applicant_sex_observed                    864270 non-null  int64  \n",
      " 76  co-applicant_sex_observed                 864270 non-null  int64  \n",
      " 77  applicant_age                             864270 non-null  object \n",
      " 78  co-applicant_age                          864270 non-null  object \n",
      " 79  applicant_age_above_62                    789846 non-null  object \n",
      " 80  co-applicant_age_above_62                 349867 non-null  object \n",
      " 81  submission_of_application                 864270 non-null  int64  \n",
      " 82  initially_payable_to_institution          864270 non-null  int64  \n",
      " 83  aus-1                                     864270 non-null  int64  \n",
      " 84  aus-2                                     62781 non-null   float64\n",
      " 85  aus-3                                     13719 non-null   float64\n",
      " 86  aus-4                                     1865 non-null    float64\n",
      " 87  aus-5                                     1483 non-null    float64\n",
      " 88  denial_reason-1                           864270 non-null  int64  \n",
      " 89  denial_reason-2                           13580 non-null   float64\n",
      " 90  denial_reason-3                           1901 non-null    float64\n",
      " 91  denial_reason-4                           155 non-null     float64\n",
      " 92  tract_population                          864270 non-null  int64  \n",
      " 93  tract_minority_population_percent         864270 non-null  float64\n",
      " 94  ffiec_msa_md_median_family_income         864270 non-null  int64  \n",
      " 95  tract_to_msa_income_percentage            864270 non-null  int64  \n",
      " 96  tract_owner_occupied_units                864270 non-null  int64  \n",
      " 97  tract_one_to_four_family_homes            864270 non-null  int64  \n",
      " 98  tract_median_age_of_housing_units         864270 non-null  int64  \n",
      "dtypes: float64(32), int64(40), object(27)\n",
      "memory usage: 652.8+ MB\n"
     ]
    }
   ],
   "source": [
    "df.info()"
   ]
  },
  {
   "cell_type": "code",
   "execution_count": 4,
   "id": "65381640",
   "metadata": {
    "scrolled": true
   },
   "outputs": [
    {
     "data": {
      "text/html": [
       "<div>\n",
       "<style scoped>\n",
       "    .dataframe tbody tr th:only-of-type {\n",
       "        vertical-align: middle;\n",
       "    }\n",
       "\n",
       "    .dataframe tbody tr th {\n",
       "        vertical-align: top;\n",
       "    }\n",
       "\n",
       "    .dataframe thead th {\n",
       "        text-align: right;\n",
       "    }\n",
       "</style>\n",
       "<table border=\"1\" class=\"dataframe\">\n",
       "  <thead>\n",
       "    <tr style=\"text-align: right;\">\n",
       "      <th></th>\n",
       "      <th>activity_year</th>\n",
       "      <th>derived_msa-md</th>\n",
       "      <th>state_code</th>\n",
       "      <th>derived_loan_product_type</th>\n",
       "      <th>derived_dwelling_category</th>\n",
       "      <th>derived_race</th>\n",
       "      <th>derived_sex</th>\n",
       "      <th>action_taken</th>\n",
       "      <th>loan_type</th>\n",
       "      <th>loan_purpose</th>\n",
       "      <th>loan_amount</th>\n",
       "      <th>loan_to_value_ratio</th>\n",
       "      <th>income</th>\n",
       "      <th>debt_to_income_ratio</th>\n",
       "      <th>applicant_credit_score_type</th>\n",
       "    </tr>\n",
       "  </thead>\n",
       "  <tbody>\n",
       "    <tr>\n",
       "      <th>0</th>\n",
       "      <td>2020</td>\n",
       "      <td>99999</td>\n",
       "      <td>IL</td>\n",
       "      <td>Conventional:First Lien</td>\n",
       "      <td>Single Family (1-4 Units):Site-Built</td>\n",
       "      <td>White</td>\n",
       "      <td>Joint</td>\n",
       "      <td>1</td>\n",
       "      <td>1</td>\n",
       "      <td>31</td>\n",
       "      <td>315000.0</td>\n",
       "      <td>79.744</td>\n",
       "      <td>234.0</td>\n",
       "      <td>41</td>\n",
       "      <td>1</td>\n",
       "    </tr>\n",
       "    <tr>\n",
       "      <th>1</th>\n",
       "      <td>2020</td>\n",
       "      <td>37900</td>\n",
       "      <td>IL</td>\n",
       "      <td>FHA:First Lien</td>\n",
       "      <td>Single Family (1-4 Units):Site-Built</td>\n",
       "      <td>White</td>\n",
       "      <td>Female</td>\n",
       "      <td>3</td>\n",
       "      <td>2</td>\n",
       "      <td>1</td>\n",
       "      <td>15000.0</td>\n",
       "      <td>55.556</td>\n",
       "      <td>12.0</td>\n",
       "      <td>&gt;60%</td>\n",
       "      <td>2</td>\n",
       "    </tr>\n",
       "    <tr>\n",
       "      <th>2</th>\n",
       "      <td>2020</td>\n",
       "      <td>16580</td>\n",
       "      <td>IL</td>\n",
       "      <td>Conventional:First Lien</td>\n",
       "      <td>Single Family (1-4 Units):Site-Built</td>\n",
       "      <td>Joint</td>\n",
       "      <td>Joint</td>\n",
       "      <td>1</td>\n",
       "      <td>1</td>\n",
       "      <td>1</td>\n",
       "      <td>155000.0</td>\n",
       "      <td>64.583</td>\n",
       "      <td>93.0</td>\n",
       "      <td>30%-&lt;36%</td>\n",
       "      <td>9</td>\n",
       "    </tr>\n",
       "    <tr>\n",
       "      <th>3</th>\n",
       "      <td>2020</td>\n",
       "      <td>37900</td>\n",
       "      <td>IL</td>\n",
       "      <td>Conventional:First Lien</td>\n",
       "      <td>Single Family (1-4 Units):Site-Built</td>\n",
       "      <td>Black or African American</td>\n",
       "      <td>Male</td>\n",
       "      <td>3</td>\n",
       "      <td>1</td>\n",
       "      <td>1</td>\n",
       "      <td>115000.0</td>\n",
       "      <td>91.667</td>\n",
       "      <td>23.0</td>\n",
       "      <td>49</td>\n",
       "      <td>1</td>\n",
       "    </tr>\n",
       "    <tr>\n",
       "      <th>4</th>\n",
       "      <td>2020</td>\n",
       "      <td>41180</td>\n",
       "      <td>IL</td>\n",
       "      <td>Conventional:First Lien</td>\n",
       "      <td>Single Family (1-4 Units):Site-Built</td>\n",
       "      <td>White</td>\n",
       "      <td>Joint</td>\n",
       "      <td>1</td>\n",
       "      <td>1</td>\n",
       "      <td>32</td>\n",
       "      <td>135000.0</td>\n",
       "      <td>48.78</td>\n",
       "      <td>42.0</td>\n",
       "      <td>37</td>\n",
       "      <td>3</td>\n",
       "    </tr>\n",
       "  </tbody>\n",
       "</table>\n",
       "</div>"
      ],
      "text/plain": [
       "   activity_year  derived_msa-md state_code derived_loan_product_type  \\\n",
       "0           2020           99999         IL   Conventional:First Lien   \n",
       "1           2020           37900         IL            FHA:First Lien   \n",
       "2           2020           16580         IL   Conventional:First Lien   \n",
       "3           2020           37900         IL   Conventional:First Lien   \n",
       "4           2020           41180         IL   Conventional:First Lien   \n",
       "\n",
       "              derived_dwelling_category               derived_race  \\\n",
       "0  Single Family (1-4 Units):Site-Built                      White   \n",
       "1  Single Family (1-4 Units):Site-Built                      White   \n",
       "2  Single Family (1-4 Units):Site-Built                      Joint   \n",
       "3  Single Family (1-4 Units):Site-Built  Black or African American   \n",
       "4  Single Family (1-4 Units):Site-Built                      White   \n",
       "\n",
       "  derived_sex  action_taken  loan_type  loan_purpose  loan_amount  \\\n",
       "0       Joint             1          1            31     315000.0   \n",
       "1      Female             3          2             1      15000.0   \n",
       "2       Joint             1          1             1     155000.0   \n",
       "3        Male             3          1             1     115000.0   \n",
       "4       Joint             1          1            32     135000.0   \n",
       "\n",
       "  loan_to_value_ratio  income debt_to_income_ratio  \\\n",
       "0              79.744   234.0                   41   \n",
       "1              55.556    12.0                 >60%   \n",
       "2              64.583    93.0             30%-<36%   \n",
       "3              91.667    23.0                   49   \n",
       "4               48.78    42.0                   37   \n",
       "\n",
       "   applicant_credit_score_type  \n",
       "0                            1  \n",
       "1                            2  \n",
       "2                            9  \n",
       "3                            1  \n",
       "4                            3  "
      ]
     },
     "execution_count": 4,
     "metadata": {},
     "output_type": "execute_result"
    }
   ],
   "source": [
    "#creating df1 dataframe that includes only columns that I think are relevant\n",
    "\n",
    "df1 = df[[\"activity_year\",\"derived_msa-md\",\"state_code\",\"derived_loan_product_type\",\"derived_dwelling_category\",\"derived_race\",\"derived_sex\",\"action_taken\",\"loan_type\",\"loan_purpose\",\"loan_amount\",\"loan_to_value_ratio\",\"income\",\"debt_to_income_ratio\",\"applicant_credit_score_type\"]]\n",
    "df1.head()"
   ]
  },
  {
   "cell_type": "code",
   "execution_count": 5,
   "id": "9e53ea0f",
   "metadata": {
    "scrolled": false
   },
   "outputs": [
    {
     "name": "stdout",
     "output_type": "stream",
     "text": [
      "<class 'pandas.core.frame.DataFrame'>\n",
      "RangeIndex: 864270 entries, 0 to 864269\n",
      "Data columns (total 15 columns):\n",
      " #   Column                       Non-Null Count   Dtype  \n",
      "---  ------                       --------------   -----  \n",
      " 0   activity_year                864270 non-null  int64  \n",
      " 1   derived_msa-md               864270 non-null  int64  \n",
      " 2   state_code                   864270 non-null  object \n",
      " 3   derived_loan_product_type    864270 non-null  object \n",
      " 4   derived_dwelling_category    864270 non-null  object \n",
      " 5   derived_race                 864270 non-null  object \n",
      " 6   derived_sex                  864270 non-null  object \n",
      " 7   action_taken                 864270 non-null  int64  \n",
      " 8   loan_type                    864270 non-null  int64  \n",
      " 9   loan_purpose                 864270 non-null  int64  \n",
      " 10  loan_amount                  864270 non-null  float64\n",
      " 11  loan_to_value_ratio          584195 non-null  object \n",
      " 12  income                       746974 non-null  float64\n",
      " 13  debt_to_income_ratio         576607 non-null  object \n",
      " 14  applicant_credit_score_type  864270 non-null  int64  \n",
      "dtypes: float64(2), int64(6), object(7)\n",
      "memory usage: 98.9+ MB\n"
     ]
    }
   ],
   "source": [
    "df1.info()"
   ]
  },
  {
   "cell_type": "code",
   "execution_count": 13,
   "id": "46db8563",
   "metadata": {
    "scrolled": true
   },
   "outputs": [
    {
     "data": {
      "text/html": [
       "<div>\n",
       "<style scoped>\n",
       "    .dataframe tbody tr th:only-of-type {\n",
       "        vertical-align: middle;\n",
       "    }\n",
       "\n",
       "    .dataframe tbody tr th {\n",
       "        vertical-align: top;\n",
       "    }\n",
       "\n",
       "    .dataframe thead th {\n",
       "        text-align: right;\n",
       "    }\n",
       "</style>\n",
       "<table border=\"1\" class=\"dataframe\">\n",
       "  <thead>\n",
       "    <tr style=\"text-align: right;\">\n",
       "      <th></th>\n",
       "      <th>derived_race</th>\n",
       "      <th>Mean Income</th>\n",
       "    </tr>\n",
       "  </thead>\n",
       "  <tbody>\n",
       "    <tr>\n",
       "      <th>5</th>\n",
       "      <td>Joint</td>\n",
       "      <td>296.030896</td>\n",
       "    </tr>\n",
       "    <tr>\n",
       "      <th>2</th>\n",
       "      <td>Asian</td>\n",
       "      <td>258.732478</td>\n",
       "    </tr>\n",
       "    <tr>\n",
       "      <th>8</th>\n",
       "      <td>White</td>\n",
       "      <td>221.314142</td>\n",
       "    </tr>\n",
       "    <tr>\n",
       "      <th>7</th>\n",
       "      <td>Race Not Available</td>\n",
       "      <td>216.461384</td>\n",
       "    </tr>\n",
       "    <tr>\n",
       "      <th>3</th>\n",
       "      <td>Black or African American</td>\n",
       "      <td>201.526231</td>\n",
       "    </tr>\n",
       "    <tr>\n",
       "      <th>1</th>\n",
       "      <td>American Indian or Alaska Native</td>\n",
       "      <td>133.449235</td>\n",
       "    </tr>\n",
       "    <tr>\n",
       "      <th>6</th>\n",
       "      <td>Native Hawaiian or Other Pacific Islander</td>\n",
       "      <td>112.622036</td>\n",
       "    </tr>\n",
       "    <tr>\n",
       "      <th>4</th>\n",
       "      <td>Free Form Text Only</td>\n",
       "      <td>106.325581</td>\n",
       "    </tr>\n",
       "    <tr>\n",
       "      <th>0</th>\n",
       "      <td>2 or more minority races</td>\n",
       "      <td>106.006250</td>\n",
       "    </tr>\n",
       "  </tbody>\n",
       "</table>\n",
       "</div>"
      ],
      "text/plain": [
       "                                derived_race  Mean Income\n",
       "5                                      Joint   296.030896\n",
       "2                                      Asian   258.732478\n",
       "8                                      White   221.314142\n",
       "7                         Race Not Available   216.461384\n",
       "3                  Black or African American   201.526231\n",
       "1           American Indian or Alaska Native   133.449235\n",
       "6  Native Hawaiian or Other Pacific Islander   112.622036\n",
       "4                        Free Form Text Only   106.325581\n",
       "0                   2 or more minority races   106.006250"
      ]
     },
     "execution_count": 13,
     "metadata": {},
     "output_type": "execute_result"
    }
   ],
   "source": [
    "#calculating the mean for each derived race available in df1\n",
    "\n",
    "df1.groupby([\"derived_race\"])[\"income\"].mean().reset_index(name=\"Mean Income\").sort_values(\n",
    "    by = \"Mean Income\", ascending = False)"
   ]
  },
  {
   "cell_type": "code",
   "execution_count": 14,
   "id": "fe555b18",
   "metadata": {
    "scrolled": false
   },
   "outputs": [
    {
     "data": {
      "text/plain": [
       "<AxesSubplot:xlabel='derived_race'>"
      ]
     },
     "execution_count": 14,
     "metadata": {},
     "output_type": "execute_result"
    },
    {
     "data": {
      "image/png": "[encoded data removed]",
      "text/plain": [
       "<Figure size 432x288 with 1 Axes>"
      ]
     },
     "metadata": {
      "needs_background": "light"
     },
     "output_type": "display_data"
    }
   ],
   "source": [
    "#creating a table showing mean income by race, \n",
    "#sort_values was not working for some reason\n",
    "\n",
    "df1.groupby('derived_race')['income'].mean().plot.bar(legend=True)"
   ]
  },
  {
   "cell_type": "code",
   "execution_count": 15,
   "id": "cd78dd57",
   "metadata": {
    "scrolled": true
   },
   "outputs": [
    {
     "data": {
      "text/plain": [
       "derived_race\n",
       "2 or more minority races                     106.006250\n",
       "American Indian or Alaska Native             133.449235\n",
       "Asian                                        258.732478\n",
       "Black or African American                    201.526231\n",
       "Free Form Text Only                          106.325581\n",
       "Joint                                        296.030896\n",
       "Native Hawaiian or Other Pacific Islander    112.622036\n",
       "Race Not Available                           216.461384\n",
       "White                                        221.314142\n",
       "Name: income, dtype: float64"
      ]
     },
     "execution_count": 15,
     "metadata": {},
     "output_type": "execute_result"
    }
   ],
   "source": [
    "#calculate mean income by race\n",
    "\n",
    "df1.groupby([\"derived_race\"])[\"income\"].mean()"
   ]
  },
  {
   "cell_type": "code",
   "execution_count": 16,
   "id": "c00b447d",
   "metadata": {
    "scrolled": true
   },
   "outputs": [
    {
     "data": {
      "text/html": [
       "<div>\n",
       "<style scoped>\n",
       "    .dataframe tbody tr th:only-of-type {\n",
       "        vertical-align: middle;\n",
       "    }\n",
       "\n",
       "    .dataframe tbody tr th {\n",
       "        vertical-align: top;\n",
       "    }\n",
       "\n",
       "    .dataframe thead th {\n",
       "        text-align: right;\n",
       "    }\n",
       "</style>\n",
       "<table border=\"1\" class=\"dataframe\">\n",
       "  <thead>\n",
       "    <tr style=\"text-align: right;\">\n",
       "      <th></th>\n",
       "      <th>derived_race</th>\n",
       "      <th>Loan Amount</th>\n",
       "    </tr>\n",
       "  </thead>\n",
       "  <tbody>\n",
       "    <tr>\n",
       "      <th>5</th>\n",
       "      <td>Joint</td>\n",
       "      <td>298922.449912</td>\n",
       "    </tr>\n",
       "    <tr>\n",
       "      <th>7</th>\n",
       "      <td>Race Not Available</td>\n",
       "      <td>281235.544193</td>\n",
       "    </tr>\n",
       "    <tr>\n",
       "      <th>2</th>\n",
       "      <td>Asian</td>\n",
       "      <td>280856.676309</td>\n",
       "    </tr>\n",
       "    <tr>\n",
       "      <th>8</th>\n",
       "      <td>White</td>\n",
       "      <td>233551.525831</td>\n",
       "    </tr>\n",
       "    <tr>\n",
       "      <th>6</th>\n",
       "      <td>Native Hawaiian or Other Pacific Islander</td>\n",
       "      <td>214367.245658</td>\n",
       "    </tr>\n",
       "    <tr>\n",
       "      <th>3</th>\n",
       "      <td>Black or African American</td>\n",
       "      <td>187245.231052</td>\n",
       "    </tr>\n",
       "    <tr>\n",
       "      <th>1</th>\n",
       "      <td>American Indian or Alaska Native</td>\n",
       "      <td>185232.365145</td>\n",
       "    </tr>\n",
       "    <tr>\n",
       "      <th>0</th>\n",
       "      <td>2 or more minority races</td>\n",
       "      <td>181231.386025</td>\n",
       "    </tr>\n",
       "    <tr>\n",
       "      <th>4</th>\n",
       "      <td>Free Form Text Only</td>\n",
       "      <td>175909.090909</td>\n",
       "    </tr>\n",
       "  </tbody>\n",
       "</table>\n",
       "</div>"
      ],
      "text/plain": [
       "                                derived_race    Loan Amount\n",
       "5                                      Joint  298922.449912\n",
       "7                         Race Not Available  281235.544193\n",
       "2                                      Asian  280856.676309\n",
       "8                                      White  233551.525831\n",
       "6  Native Hawaiian or Other Pacific Islander  214367.245658\n",
       "3                  Black or African American  187245.231052\n",
       "1           American Indian or Alaska Native  185232.365145\n",
       "0                   2 or more minority races  181231.386025\n",
       "4                        Free Form Text Only  175909.090909"
      ]
     },
     "execution_count": 16,
     "metadata": {},
     "output_type": "execute_result"
    }
   ],
   "source": [
    "#calculate mean loan amount by race\n",
    "\n",
    "df1.groupby([\"derived_race\"])[\"loan_amount\"].mean().reset_index(name=\"Loan Amount\").sort_values(\n",
    "    by = \"Loan Amount\", ascending = False)"
   ]
  },
  {
   "cell_type": "code",
   "execution_count": 17,
   "id": "b6b38689",
   "metadata": {},
   "outputs": [
    {
     "data": {
      "text/plain": [
       "<AxesSubplot:xlabel='derived_race'>"
      ]
     },
     "execution_count": 17,
     "metadata": {},
     "output_type": "execute_result"
    },
    {
     "data": {
      "image/png": "[encoded data removed]",
      "text/plain": [
       "<Figure size 432x288 with 1 Axes>"
      ]
     },
     "metadata": {
      "needs_background": "light"
     },
     "output_type": "display_data"
    }
   ],
   "source": [
    "#creating a table showing loan amount by race, \n",
    "#sort_values was not working for some reason\n",
    "\n",
    "df1.groupby('derived_race')['loan_amount'].mean().plot.bar(legend=True)"
   ]
  },
  {
   "cell_type": "code",
   "execution_count": 11,
   "id": "ef09e25a",
   "metadata": {},
   "outputs": [
    {
     "data": {
      "text/plain": [
       "<AxesSubplot:>"
      ]
     },
     "execution_count": 11,
     "metadata": {},
     "output_type": "execute_result"
    },
    {
     "data": {
      "image/png": "[encoded data removed]",
      "text/plain": [
       "<Figure size 432x288 with 1 Axes>"
      ]
     },
     "metadata": {
      "needs_background": "light"
     },
     "output_type": "display_data"
    }
   ],
   "source": [
    "#calculating count of race \n",
    "\n",
    "df1[\"derived_race\"].value_counts().plot(kind='bar')"
   ]
  },
  {
   "cell_type": "code",
   "execution_count": 12,
   "id": "0385ea30",
   "metadata": {
    "scrolled": false
   },
   "outputs": [
    {
     "data": {
      "text/plain": [
       "<AxesSubplot:>"
      ]
     },
     "execution_count": 12,
     "metadata": {},
     "output_type": "execute_result"
    },
    {
     "data": {
      "image/png": "[encoded data removed]",
      "text/plain": [
       "<Figure size 432x288 with 1 Axes>"
      ]
     },
     "metadata": {
      "needs_background": "light"
     },
     "output_type": "display_data"
    }
   ],
   "source": [
    "#calculating count of action taken\n",
    "\n",
    "df1[\"action_taken\"].value_counts().plot(kind='bar')"
   ]
  },
  {
   "cell_type": "code",
   "execution_count": 18,
   "id": "c13414d0",
   "metadata": {},
   "outputs": [],
   "source": [
    "#downloading new df1 to csv file for tableau\n",
    "df1.to_csv(\"FFIEC_Data.csv\")"
   ]
  },
  {
   "cell_type": "code",
   "execution_count": null,
   "id": "790d541e",
   "metadata": {},
   "outputs": [],
   "source": []
  },
  {
   "cell_type": "code",
   "execution_count": null,
   "id": "490298b9",
   "metadata": {},
   "outputs": [],
   "source": []
  },
  {
   "cell_type": "code",
   "execution_count": null,
   "id": "9d925823",
   "metadata": {},
   "outputs": [],
   "source": []
  },
  {
   "cell_type": "code",
   "execution_count": null,
   "id": "68633379",
   "metadata": {},
   "outputs": [],
   "source": []
  }
 ],
 "metadata": {
  "kernelspec": {
   "display_name": "Python 3",
   "language": "python",
   "name": "python3"
  },
  "language_info": {
   "codemirror_mode": {
    "name": "ipython",
    "version": 3
   },
   "file_extension": ".py",
   "mimetype": "text/x-python",
   "name": "python",
   "nbconvert_exporter": "python",
   "pygments_lexer": "ipython3",
   "version": "3.8.10"
  }
 },
 "nbformat": 4,
 "nbformat_minor": 5
}
